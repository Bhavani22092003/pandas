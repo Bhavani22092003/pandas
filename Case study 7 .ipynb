{
 "cells": [
  {
   "cell_type": "code",
   "execution_count": 1,
   "id": "92a00f91",
   "metadata": {},
   "outputs": [],
   "source": [
    "import pandas as pd ,numpy as np  # importing required libraries\n",
    "import matplotlib.pyplot as plt,seaborn as sns\n",
    "import warnings \n",
    "warnings.filterwarnings('ignore')"
   ]
  },
  {
   "cell_type": "code",
   "execution_count": 2,
   "id": "7b542166",
   "metadata": {},
   "outputs": [
    {
     "data": {
      "text/html": [
       "<div>\n",
       "<style scoped>\n",
       "    .dataframe tbody tr th:only-of-type {\n",
       "        vertical-align: middle;\n",
       "    }\n",
       "\n",
       "    .dataframe tbody tr th {\n",
       "        vertical-align: top;\n",
       "    }\n",
       "\n",
       "    .dataframe thead th {\n",
       "        text-align: right;\n",
       "    }\n",
       "</style>\n",
       "<table border=\"1\" class=\"dataframe\">\n",
       "  <thead>\n",
       "    <tr style=\"text-align: right;\">\n",
       "      <th></th>\n",
       "      <th>product_id</th>\n",
       "      <th>price</th>\n",
       "      <th>product_name</th>\n",
       "      <th>category_id</th>\n",
       "      <th>segment_id</th>\n",
       "      <th>style_id</th>\n",
       "      <th>category_name</th>\n",
       "      <th>segment_name</th>\n",
       "      <th>style_name</th>\n",
       "    </tr>\n",
       "  </thead>\n",
       "  <tbody>\n",
       "    <tr>\n",
       "      <th>0</th>\n",
       "      <td>c4a632</td>\n",
       "      <td>13</td>\n",
       "      <td>Navy Oversized Jeans - Womens</td>\n",
       "      <td>1</td>\n",
       "      <td>3</td>\n",
       "      <td>7</td>\n",
       "      <td>Womens</td>\n",
       "      <td>Jeans</td>\n",
       "      <td>Navy Oversized</td>\n",
       "    </tr>\n",
       "    <tr>\n",
       "      <th>1</th>\n",
       "      <td>e83aa3</td>\n",
       "      <td>32</td>\n",
       "      <td>Black Straight Jeans - Womens</td>\n",
       "      <td>1</td>\n",
       "      <td>3</td>\n",
       "      <td>8</td>\n",
       "      <td>Womens</td>\n",
       "      <td>Jeans</td>\n",
       "      <td>Black Straight</td>\n",
       "    </tr>\n",
       "    <tr>\n",
       "      <th>2</th>\n",
       "      <td>e31d39</td>\n",
       "      <td>10</td>\n",
       "      <td>Cream Relaxed Jeans - Womens</td>\n",
       "      <td>1</td>\n",
       "      <td>3</td>\n",
       "      <td>9</td>\n",
       "      <td>Womens</td>\n",
       "      <td>Jeans</td>\n",
       "      <td>Cream Relaxed</td>\n",
       "    </tr>\n",
       "    <tr>\n",
       "      <th>3</th>\n",
       "      <td>d5e9a6</td>\n",
       "      <td>23</td>\n",
       "      <td>Khaki Suit Jacket - Womens</td>\n",
       "      <td>1</td>\n",
       "      <td>4</td>\n",
       "      <td>10</td>\n",
       "      <td>Womens</td>\n",
       "      <td>Jacket</td>\n",
       "      <td>Khaki Suit</td>\n",
       "    </tr>\n",
       "    <tr>\n",
       "      <th>4</th>\n",
       "      <td>72f5d4</td>\n",
       "      <td>19</td>\n",
       "      <td>Indigo Rain Jacket - Womens</td>\n",
       "      <td>1</td>\n",
       "      <td>4</td>\n",
       "      <td>11</td>\n",
       "      <td>Womens</td>\n",
       "      <td>Jacket</td>\n",
       "      <td>Indigo Rain</td>\n",
       "    </tr>\n",
       "    <tr>\n",
       "      <th>5</th>\n",
       "      <td>9ec847</td>\n",
       "      <td>54</td>\n",
       "      <td>Grey Fashion Jacket - Womens</td>\n",
       "      <td>1</td>\n",
       "      <td>4</td>\n",
       "      <td>12</td>\n",
       "      <td>Womens</td>\n",
       "      <td>Jacket</td>\n",
       "      <td>Grey Fashion</td>\n",
       "    </tr>\n",
       "    <tr>\n",
       "      <th>6</th>\n",
       "      <td>5d267b</td>\n",
       "      <td>40</td>\n",
       "      <td>White Tee Shirt - Mens</td>\n",
       "      <td>2</td>\n",
       "      <td>5</td>\n",
       "      <td>13</td>\n",
       "      <td>Mens</td>\n",
       "      <td>Shirt</td>\n",
       "      <td>White Tee</td>\n",
       "    </tr>\n",
       "    <tr>\n",
       "      <th>7</th>\n",
       "      <td>c8d436</td>\n",
       "      <td>10</td>\n",
       "      <td>Teal Button Up Shirt - Mens</td>\n",
       "      <td>2</td>\n",
       "      <td>5</td>\n",
       "      <td>14</td>\n",
       "      <td>Mens</td>\n",
       "      <td>Shirt</td>\n",
       "      <td>Teal Button Up</td>\n",
       "    </tr>\n",
       "    <tr>\n",
       "      <th>8</th>\n",
       "      <td>2a2353</td>\n",
       "      <td>57</td>\n",
       "      <td>Blue Polo Shirt - Mens</td>\n",
       "      <td>2</td>\n",
       "      <td>5</td>\n",
       "      <td>15</td>\n",
       "      <td>Mens</td>\n",
       "      <td>Shirt</td>\n",
       "      <td>Blue Polo</td>\n",
       "    </tr>\n",
       "    <tr>\n",
       "      <th>9</th>\n",
       "      <td>f084eb</td>\n",
       "      <td>36</td>\n",
       "      <td>Navy Solid Socks - Mens</td>\n",
       "      <td>2</td>\n",
       "      <td>6</td>\n",
       "      <td>16</td>\n",
       "      <td>Mens</td>\n",
       "      <td>Socks</td>\n",
       "      <td>Navy Solid</td>\n",
       "    </tr>\n",
       "    <tr>\n",
       "      <th>10</th>\n",
       "      <td>b9a74d</td>\n",
       "      <td>17</td>\n",
       "      <td>White Striped Socks - Mens</td>\n",
       "      <td>2</td>\n",
       "      <td>6</td>\n",
       "      <td>17</td>\n",
       "      <td>Mens</td>\n",
       "      <td>Socks</td>\n",
       "      <td>White Striped</td>\n",
       "    </tr>\n",
       "    <tr>\n",
       "      <th>11</th>\n",
       "      <td>2feb6b</td>\n",
       "      <td>29</td>\n",
       "      <td>Pink Fluro Polkadot Socks - Mens</td>\n",
       "      <td>2</td>\n",
       "      <td>6</td>\n",
       "      <td>18</td>\n",
       "      <td>Mens</td>\n",
       "      <td>Socks</td>\n",
       "      <td>Pink Fluro Polkadot</td>\n",
       "    </tr>\n",
       "  </tbody>\n",
       "</table>\n",
       "</div>"
      ],
      "text/plain": [
       "   product_id  price                      product_name  category_id  \\\n",
       "0      c4a632     13     Navy Oversized Jeans - Womens            1   \n",
       "1      e83aa3     32     Black Straight Jeans - Womens            1   \n",
       "2      e31d39     10      Cream Relaxed Jeans - Womens            1   \n",
       "3      d5e9a6     23        Khaki Suit Jacket - Womens            1   \n",
       "4      72f5d4     19       Indigo Rain Jacket - Womens            1   \n",
       "5      9ec847     54      Grey Fashion Jacket - Womens            1   \n",
       "6      5d267b     40            White Tee Shirt - Mens            2   \n",
       "7      c8d436     10       Teal Button Up Shirt - Mens            2   \n",
       "8      2a2353     57            Blue Polo Shirt - Mens            2   \n",
       "9      f084eb     36           Navy Solid Socks - Mens            2   \n",
       "10     b9a74d     17        White Striped Socks - Mens            2   \n",
       "11     2feb6b     29  Pink Fluro Polkadot Socks - Mens            2   \n",
       "\n",
       "    segment_id  style_id category_name segment_name           style_name  \n",
       "0            3         7        Womens        Jeans       Navy Oversized  \n",
       "1            3         8        Womens        Jeans       Black Straight  \n",
       "2            3         9        Womens        Jeans        Cream Relaxed  \n",
       "3            4        10        Womens       Jacket           Khaki Suit  \n",
       "4            4        11        Womens       Jacket          Indigo Rain  \n",
       "5            4        12        Womens       Jacket         Grey Fashion  \n",
       "6            5        13          Mens        Shirt            White Tee  \n",
       "7            5        14          Mens        Shirt       Teal Button Up  \n",
       "8            5        15          Mens        Shirt            Blue Polo  \n",
       "9            6        16          Mens        Socks           Navy Solid  \n",
       "10           6        17          Mens        Socks        White Striped  \n",
       "11           6        18          Mens        Socks  Pink Fluro Polkadot  "
      ]
     },
     "execution_count": 2,
     "metadata": {},
     "output_type": "execute_result"
    }
   ],
   "source": [
    "product_details=pd.read_csv(r\"C:\\Users\\Bhavani\\Downloads\\product_details.csv\",index_col=[0]) # setting 0th column as index ,for dropping unnamed column\n",
    "product_details"
   ]
  },
  {
   "cell_type": "code",
   "execution_count": 3,
   "id": "58367369",
   "metadata": {},
   "outputs": [
    {
     "data": {
      "text/html": [
       "<div>\n",
       "<style scoped>\n",
       "    .dataframe tbody tr th:only-of-type {\n",
       "        vertical-align: middle;\n",
       "    }\n",
       "\n",
       "    .dataframe tbody tr th {\n",
       "        vertical-align: top;\n",
       "    }\n",
       "\n",
       "    .dataframe thead th {\n",
       "        text-align: right;\n",
       "    }\n",
       "</style>\n",
       "<table border=\"1\" class=\"dataframe\">\n",
       "  <thead>\n",
       "    <tr style=\"text-align: right;\">\n",
       "      <th></th>\n",
       "      <th>id</th>\n",
       "      <th>parent_id</th>\n",
       "      <th>level_text</th>\n",
       "      <th>level_name</th>\n",
       "    </tr>\n",
       "  </thead>\n",
       "  <tbody>\n",
       "    <tr>\n",
       "      <th>0</th>\n",
       "      <td>1</td>\n",
       "      <td>NaN</td>\n",
       "      <td>Womens</td>\n",
       "      <td>Category</td>\n",
       "    </tr>\n",
       "    <tr>\n",
       "      <th>1</th>\n",
       "      <td>2</td>\n",
       "      <td>NaN</td>\n",
       "      <td>Mens</td>\n",
       "      <td>Category</td>\n",
       "    </tr>\n",
       "    <tr>\n",
       "      <th>2</th>\n",
       "      <td>3</td>\n",
       "      <td>1.0</td>\n",
       "      <td>Jeans</td>\n",
       "      <td>Segment</td>\n",
       "    </tr>\n",
       "    <tr>\n",
       "      <th>3</th>\n",
       "      <td>4</td>\n",
       "      <td>1.0</td>\n",
       "      <td>Jacket</td>\n",
       "      <td>Segment</td>\n",
       "    </tr>\n",
       "    <tr>\n",
       "      <th>4</th>\n",
       "      <td>5</td>\n",
       "      <td>2.0</td>\n",
       "      <td>Shirt</td>\n",
       "      <td>Segment</td>\n",
       "    </tr>\n",
       "    <tr>\n",
       "      <th>5</th>\n",
       "      <td>6</td>\n",
       "      <td>2.0</td>\n",
       "      <td>Socks</td>\n",
       "      <td>Segment</td>\n",
       "    </tr>\n",
       "    <tr>\n",
       "      <th>6</th>\n",
       "      <td>7</td>\n",
       "      <td>3.0</td>\n",
       "      <td>Navy Oversized</td>\n",
       "      <td>Style</td>\n",
       "    </tr>\n",
       "    <tr>\n",
       "      <th>7</th>\n",
       "      <td>8</td>\n",
       "      <td>3.0</td>\n",
       "      <td>Black Straight</td>\n",
       "      <td>Style</td>\n",
       "    </tr>\n",
       "    <tr>\n",
       "      <th>8</th>\n",
       "      <td>9</td>\n",
       "      <td>3.0</td>\n",
       "      <td>Cream Relaxed</td>\n",
       "      <td>Style</td>\n",
       "    </tr>\n",
       "    <tr>\n",
       "      <th>9</th>\n",
       "      <td>10</td>\n",
       "      <td>4.0</td>\n",
       "      <td>Khaki Suit</td>\n",
       "      <td>Style</td>\n",
       "    </tr>\n",
       "    <tr>\n",
       "      <th>10</th>\n",
       "      <td>11</td>\n",
       "      <td>4.0</td>\n",
       "      <td>Indigo Rain</td>\n",
       "      <td>Style</td>\n",
       "    </tr>\n",
       "    <tr>\n",
       "      <th>11</th>\n",
       "      <td>12</td>\n",
       "      <td>4.0</td>\n",
       "      <td>Grey Fashion</td>\n",
       "      <td>Style</td>\n",
       "    </tr>\n",
       "    <tr>\n",
       "      <th>12</th>\n",
       "      <td>13</td>\n",
       "      <td>5.0</td>\n",
       "      <td>White Tee</td>\n",
       "      <td>Style</td>\n",
       "    </tr>\n",
       "    <tr>\n",
       "      <th>13</th>\n",
       "      <td>14</td>\n",
       "      <td>5.0</td>\n",
       "      <td>Teal Button Up</td>\n",
       "      <td>Style</td>\n",
       "    </tr>\n",
       "    <tr>\n",
       "      <th>14</th>\n",
       "      <td>15</td>\n",
       "      <td>5.0</td>\n",
       "      <td>Blue Polo</td>\n",
       "      <td>Style</td>\n",
       "    </tr>\n",
       "    <tr>\n",
       "      <th>15</th>\n",
       "      <td>16</td>\n",
       "      <td>6.0</td>\n",
       "      <td>Navy Solid</td>\n",
       "      <td>Style</td>\n",
       "    </tr>\n",
       "    <tr>\n",
       "      <th>16</th>\n",
       "      <td>17</td>\n",
       "      <td>6.0</td>\n",
       "      <td>White Striped</td>\n",
       "      <td>Style</td>\n",
       "    </tr>\n",
       "    <tr>\n",
       "      <th>17</th>\n",
       "      <td>18</td>\n",
       "      <td>6.0</td>\n",
       "      <td>Pink Fluro Polkadot</td>\n",
       "      <td>Style</td>\n",
       "    </tr>\n",
       "  </tbody>\n",
       "</table>\n",
       "</div>"
      ],
      "text/plain": [
       "    id  parent_id           level_text level_name\n",
       "0    1        NaN               Womens   Category\n",
       "1    2        NaN                 Mens   Category\n",
       "2    3        1.0                Jeans    Segment\n",
       "3    4        1.0               Jacket    Segment\n",
       "4    5        2.0                Shirt    Segment\n",
       "5    6        2.0                Socks    Segment\n",
       "6    7        3.0       Navy Oversized      Style\n",
       "7    8        3.0       Black Straight      Style\n",
       "8    9        3.0        Cream Relaxed      Style\n",
       "9   10        4.0           Khaki Suit      Style\n",
       "10  11        4.0          Indigo Rain      Style\n",
       "11  12        4.0         Grey Fashion      Style\n",
       "12  13        5.0            White Tee      Style\n",
       "13  14        5.0       Teal Button Up      Style\n",
       "14  15        5.0            Blue Polo      Style\n",
       "15  16        6.0           Navy Solid      Style\n",
       "16  17        6.0        White Striped      Style\n",
       "17  18        6.0  Pink Fluro Polkadot      Style"
      ]
     },
     "execution_count": 3,
     "metadata": {},
     "output_type": "execute_result"
    }
   ],
   "source": [
    "product_hierarchy=pd.read_csv(r\"C:\\Users\\Bhavani\\Downloads\\product_hierarchy.csv\",index_col=[0])\n",
    "product_hierarchy"
   ]
  },
  {
   "cell_type": "code",
   "execution_count": 4,
   "id": "9cd32b7f",
   "metadata": {},
   "outputs": [
    {
     "data": {
      "text/html": [
       "<div>\n",
       "<style scoped>\n",
       "    .dataframe tbody tr th:only-of-type {\n",
       "        vertical-align: middle;\n",
       "    }\n",
       "\n",
       "    .dataframe tbody tr th {\n",
       "        vertical-align: top;\n",
       "    }\n",
       "\n",
       "    .dataframe thead th {\n",
       "        text-align: right;\n",
       "    }\n",
       "</style>\n",
       "<table border=\"1\" class=\"dataframe\">\n",
       "  <thead>\n",
       "    <tr style=\"text-align: right;\">\n",
       "      <th></th>\n",
       "      <th>id</th>\n",
       "      <th>product_id</th>\n",
       "      <th>price</th>\n",
       "    </tr>\n",
       "  </thead>\n",
       "  <tbody>\n",
       "    <tr>\n",
       "      <th>0</th>\n",
       "      <td>7</td>\n",
       "      <td>c4a632</td>\n",
       "      <td>13</td>\n",
       "    </tr>\n",
       "    <tr>\n",
       "      <th>1</th>\n",
       "      <td>8</td>\n",
       "      <td>e83aa3</td>\n",
       "      <td>32</td>\n",
       "    </tr>\n",
       "    <tr>\n",
       "      <th>2</th>\n",
       "      <td>9</td>\n",
       "      <td>e31d39</td>\n",
       "      <td>10</td>\n",
       "    </tr>\n",
       "    <tr>\n",
       "      <th>3</th>\n",
       "      <td>10</td>\n",
       "      <td>d5e9a6</td>\n",
       "      <td>23</td>\n",
       "    </tr>\n",
       "    <tr>\n",
       "      <th>4</th>\n",
       "      <td>11</td>\n",
       "      <td>72f5d4</td>\n",
       "      <td>19</td>\n",
       "    </tr>\n",
       "    <tr>\n",
       "      <th>5</th>\n",
       "      <td>12</td>\n",
       "      <td>9ec847</td>\n",
       "      <td>54</td>\n",
       "    </tr>\n",
       "    <tr>\n",
       "      <th>6</th>\n",
       "      <td>13</td>\n",
       "      <td>5d267b</td>\n",
       "      <td>40</td>\n",
       "    </tr>\n",
       "    <tr>\n",
       "      <th>7</th>\n",
       "      <td>14</td>\n",
       "      <td>c8d436</td>\n",
       "      <td>10</td>\n",
       "    </tr>\n",
       "    <tr>\n",
       "      <th>8</th>\n",
       "      <td>15</td>\n",
       "      <td>2a2353</td>\n",
       "      <td>57</td>\n",
       "    </tr>\n",
       "    <tr>\n",
       "      <th>9</th>\n",
       "      <td>16</td>\n",
       "      <td>f084eb</td>\n",
       "      <td>36</td>\n",
       "    </tr>\n",
       "    <tr>\n",
       "      <th>10</th>\n",
       "      <td>17</td>\n",
       "      <td>b9a74d</td>\n",
       "      <td>17</td>\n",
       "    </tr>\n",
       "    <tr>\n",
       "      <th>11</th>\n",
       "      <td>18</td>\n",
       "      <td>2feb6b</td>\n",
       "      <td>29</td>\n",
       "    </tr>\n",
       "  </tbody>\n",
       "</table>\n",
       "</div>"
      ],
      "text/plain": [
       "    id product_id  price\n",
       "0    7     c4a632     13\n",
       "1    8     e83aa3     32\n",
       "2    9     e31d39     10\n",
       "3   10     d5e9a6     23\n",
       "4   11     72f5d4     19\n",
       "5   12     9ec847     54\n",
       "6   13     5d267b     40\n",
       "7   14     c8d436     10\n",
       "8   15     2a2353     57\n",
       "9   16     f084eb     36\n",
       "10  17     b9a74d     17\n",
       "11  18     2feb6b     29"
      ]
     },
     "execution_count": 4,
     "metadata": {},
     "output_type": "execute_result"
    }
   ],
   "source": [
    "product_prices=pd.read_csv(r\"C:\\Users\\Bhavani\\Downloads\\product_prices.csv\",index_col=[0])\n",
    "product_prices"
   ]
  },
  {
   "cell_type": "code",
   "execution_count": 5,
   "id": "239ce2fc",
   "metadata": {},
   "outputs": [
    {
     "data": {
      "text/html": [
       "<div>\n",
       "<style scoped>\n",
       "    .dataframe tbody tr th:only-of-type {\n",
       "        vertical-align: middle;\n",
       "    }\n",
       "\n",
       "    .dataframe tbody tr th {\n",
       "        vertical-align: top;\n",
       "    }\n",
       "\n",
       "    .dataframe thead th {\n",
       "        text-align: right;\n",
       "    }\n",
       "</style>\n",
       "<table border=\"1\" class=\"dataframe\">\n",
       "  <thead>\n",
       "    <tr style=\"text-align: right;\">\n",
       "      <th></th>\n",
       "      <th>prod_id</th>\n",
       "      <th>qty</th>\n",
       "      <th>price</th>\n",
       "      <th>discount</th>\n",
       "      <th>member</th>\n",
       "      <th>txn_id</th>\n",
       "      <th>start_txn_time</th>\n",
       "    </tr>\n",
       "  </thead>\n",
       "  <tbody>\n",
       "    <tr>\n",
       "      <th>0</th>\n",
       "      <td>c4a632</td>\n",
       "      <td>4</td>\n",
       "      <td>13</td>\n",
       "      <td>17</td>\n",
       "      <td>t</td>\n",
       "      <td>54f307</td>\n",
       "      <td>2021-02-13 01:59:43.296</td>\n",
       "    </tr>\n",
       "    <tr>\n",
       "      <th>1</th>\n",
       "      <td>5d267b</td>\n",
       "      <td>4</td>\n",
       "      <td>40</td>\n",
       "      <td>17</td>\n",
       "      <td>t</td>\n",
       "      <td>54f307</td>\n",
       "      <td>2021-02-13 01:59:43.296</td>\n",
       "    </tr>\n",
       "    <tr>\n",
       "      <th>2</th>\n",
       "      <td>b9a74d</td>\n",
       "      <td>4</td>\n",
       "      <td>17</td>\n",
       "      <td>17</td>\n",
       "      <td>t</td>\n",
       "      <td>54f307</td>\n",
       "      <td>2021-02-13 01:59:43.296</td>\n",
       "    </tr>\n",
       "    <tr>\n",
       "      <th>3</th>\n",
       "      <td>2feb6b</td>\n",
       "      <td>2</td>\n",
       "      <td>29</td>\n",
       "      <td>17</td>\n",
       "      <td>t</td>\n",
       "      <td>54f307</td>\n",
       "      <td>2021-02-13 01:59:43.296</td>\n",
       "    </tr>\n",
       "    <tr>\n",
       "      <th>4</th>\n",
       "      <td>c4a632</td>\n",
       "      <td>5</td>\n",
       "      <td>13</td>\n",
       "      <td>21</td>\n",
       "      <td>t</td>\n",
       "      <td>26cc98</td>\n",
       "      <td>2021-01-19 01:39:00.3456</td>\n",
       "    </tr>\n",
       "    <tr>\n",
       "      <th>...</th>\n",
       "      <td>...</td>\n",
       "      <td>...</td>\n",
       "      <td>...</td>\n",
       "      <td>...</td>\n",
       "      <td>...</td>\n",
       "      <td>...</td>\n",
       "      <td>...</td>\n",
       "    </tr>\n",
       "    <tr>\n",
       "      <th>15090</th>\n",
       "      <td>9ec847</td>\n",
       "      <td>1</td>\n",
       "      <td>54</td>\n",
       "      <td>13</td>\n",
       "      <td>t</td>\n",
       "      <td>f15ab3</td>\n",
       "      <td>2021-03-20 12:01:22.944</td>\n",
       "    </tr>\n",
       "    <tr>\n",
       "      <th>15091</th>\n",
       "      <td>2a2353</td>\n",
       "      <td>3</td>\n",
       "      <td>57</td>\n",
       "      <td>13</td>\n",
       "      <td>t</td>\n",
       "      <td>f15ab3</td>\n",
       "      <td>2021-03-20 12:01:22.944</td>\n",
       "    </tr>\n",
       "    <tr>\n",
       "      <th>15092</th>\n",
       "      <td>e83aa3</td>\n",
       "      <td>5</td>\n",
       "      <td>32</td>\n",
       "      <td>1</td>\n",
       "      <td>t</td>\n",
       "      <td>93620b</td>\n",
       "      <td>2021-03-01 07:11:24.6624</td>\n",
       "    </tr>\n",
       "    <tr>\n",
       "      <th>15093</th>\n",
       "      <td>d5e9a6</td>\n",
       "      <td>2</td>\n",
       "      <td>23</td>\n",
       "      <td>1</td>\n",
       "      <td>t</td>\n",
       "      <td>93620b</td>\n",
       "      <td>2021-03-01 07:11:24.6624</td>\n",
       "    </tr>\n",
       "    <tr>\n",
       "      <th>15094</th>\n",
       "      <td>5d267b</td>\n",
       "      <td>2</td>\n",
       "      <td>40</td>\n",
       "      <td>1</td>\n",
       "      <td>t</td>\n",
       "      <td>93620b</td>\n",
       "      <td>2021-03-01 07:11:24.6624</td>\n",
       "    </tr>\n",
       "  </tbody>\n",
       "</table>\n",
       "<p>15095 rows × 7 columns</p>\n",
       "</div>"
      ],
      "text/plain": [
       "      prod_id  qty  price  discount member  txn_id            start_txn_time\n",
       "0      c4a632    4     13        17      t  54f307   2021-02-13 01:59:43.296\n",
       "1      5d267b    4     40        17      t  54f307   2021-02-13 01:59:43.296\n",
       "2      b9a74d    4     17        17      t  54f307   2021-02-13 01:59:43.296\n",
       "3      2feb6b    2     29        17      t  54f307   2021-02-13 01:59:43.296\n",
       "4      c4a632    5     13        21      t  26cc98  2021-01-19 01:39:00.3456\n",
       "...       ...  ...    ...       ...    ...     ...                       ...\n",
       "15090  9ec847    1     54        13      t  f15ab3   2021-03-20 12:01:22.944\n",
       "15091  2a2353    3     57        13      t  f15ab3   2021-03-20 12:01:22.944\n",
       "15092  e83aa3    5     32         1      t  93620b  2021-03-01 07:11:24.6624\n",
       "15093  d5e9a6    2     23         1      t  93620b  2021-03-01 07:11:24.6624\n",
       "15094  5d267b    2     40         1      t  93620b  2021-03-01 07:11:24.6624\n",
       "\n",
       "[15095 rows x 7 columns]"
      ]
     },
     "execution_count": 5,
     "metadata": {},
     "output_type": "execute_result"
    }
   ],
   "source": [
    "sales =pd.read_csv(r\"C:\\Users\\Bhavani\\Downloads\\sales (1).csv\",index_col=[0])\n",
    "sales "
   ]
  },
  {
   "cell_type": "code",
   "execution_count": 6,
   "id": "5767b9c6",
   "metadata": {},
   "outputs": [
    {
     "data": {
      "text/plain": [
       "(12, 9)"
      ]
     },
     "execution_count": 6,
     "metadata": {},
     "output_type": "execute_result"
    }
   ],
   "source": [
    "product_details.shape # shape of product_details columns it gives (no.of rows,no. of cols)"
   ]
  },
  {
   "cell_type": "code",
   "execution_count": 7,
   "id": "b6b66e98",
   "metadata": {},
   "outputs": [
    {
     "data": {
      "text/plain": [
       "(18, 4)"
      ]
     },
     "execution_count": 7,
     "metadata": {},
     "output_type": "execute_result"
    }
   ],
   "source": [
    "product_hierarchy.shape"
   ]
  },
  {
   "cell_type": "code",
   "execution_count": 8,
   "id": "f76f1a72",
   "metadata": {},
   "outputs": [
    {
     "data": {
      "text/plain": [
       "(12, 3)"
      ]
     },
     "execution_count": 8,
     "metadata": {},
     "output_type": "execute_result"
    }
   ],
   "source": [
    "product_prices.shape"
   ]
  },
  {
   "cell_type": "code",
   "execution_count": 9,
   "id": "5c2bbb47",
   "metadata": {},
   "outputs": [
    {
     "data": {
      "text/plain": [
       "(15095, 7)"
      ]
     },
     "execution_count": 9,
     "metadata": {},
     "output_type": "execute_result"
    }
   ],
   "source": [
    "sales.shape"
   ]
  },
  {
   "cell_type": "code",
   "execution_count": 10,
   "id": "2101192c",
   "metadata": {},
   "outputs": [
    {
     "name": "stdout",
     "output_type": "stream",
     "text": [
      "<class 'pandas.core.frame.DataFrame'>\n",
      "Index: 12 entries, 0 to 11\n",
      "Data columns (total 9 columns):\n",
      " #   Column         Non-Null Count  Dtype \n",
      "---  ------         --------------  ----- \n",
      " 0   product_id     12 non-null     object\n",
      " 1   price          12 non-null     int64 \n",
      " 2   product_name   12 non-null     object\n",
      " 3   category_id    12 non-null     int64 \n",
      " 4   segment_id     12 non-null     int64 \n",
      " 5   style_id       12 non-null     int64 \n",
      " 6   category_name  12 non-null     object\n",
      " 7   segment_name   12 non-null     object\n",
      " 8   style_name     12 non-null     object\n",
      "dtypes: int64(4), object(5)\n",
      "memory usage: 960.0+ bytes\n"
     ]
    }
   ],
   "source": [
    "product_details.info() # info -->it gives no of rows,no of columns and dtypes of cols "
   ]
  },
  {
   "cell_type": "code",
   "execution_count": 11,
   "id": "721474b1",
   "metadata": {},
   "outputs": [
    {
     "name": "stdout",
     "output_type": "stream",
     "text": [
      "<class 'pandas.core.frame.DataFrame'>\n",
      "Index: 18 entries, 0 to 17\n",
      "Data columns (total 4 columns):\n",
      " #   Column      Non-Null Count  Dtype  \n",
      "---  ------      --------------  -----  \n",
      " 0   id          18 non-null     int64  \n",
      " 1   parent_id   16 non-null     float64\n",
      " 2   level_text  18 non-null     object \n",
      " 3   level_name  18 non-null     object \n",
      "dtypes: float64(1), int64(1), object(2)\n",
      "memory usage: 720.0+ bytes\n"
     ]
    }
   ],
   "source": [
    "product_hierarchy.info()"
   ]
  },
  {
   "cell_type": "code",
   "execution_count": 12,
   "id": "6113de7b",
   "metadata": {},
   "outputs": [
    {
     "name": "stdout",
     "output_type": "stream",
     "text": [
      "<class 'pandas.core.frame.DataFrame'>\n",
      "Index: 12 entries, 0 to 11\n",
      "Data columns (total 3 columns):\n",
      " #   Column      Non-Null Count  Dtype \n",
      "---  ------      --------------  ----- \n",
      " 0   id          12 non-null     int64 \n",
      " 1   product_id  12 non-null     object\n",
      " 2   price       12 non-null     int64 \n",
      "dtypes: int64(2), object(1)\n",
      "memory usage: 384.0+ bytes\n"
     ]
    }
   ],
   "source": [
    "product_prices.info()"
   ]
  },
  {
   "cell_type": "code",
   "execution_count": 13,
   "id": "578b3c42",
   "metadata": {},
   "outputs": [
    {
     "name": "stdout",
     "output_type": "stream",
     "text": [
      "<class 'pandas.core.frame.DataFrame'>\n",
      "Index: 15095 entries, 0 to 15094\n",
      "Data columns (total 7 columns):\n",
      " #   Column          Non-Null Count  Dtype \n",
      "---  ------          --------------  ----- \n",
      " 0   prod_id         15095 non-null  object\n",
      " 1   qty             15095 non-null  int64 \n",
      " 2   price           15095 non-null  int64 \n",
      " 3   discount        15095 non-null  int64 \n",
      " 4   member          15095 non-null  object\n",
      " 5   txn_id          15095 non-null  object\n",
      " 6   start_txn_time  15095 non-null  object\n",
      "dtypes: int64(3), object(4)\n",
      "memory usage: 943.4+ KB\n"
     ]
    }
   ],
   "source": [
    "sales.info()"
   ]
  },
  {
   "cell_type": "code",
   "execution_count": 14,
   "id": "0953b14b",
   "metadata": {},
   "outputs": [
    {
     "data": {
      "text/html": [
       "<div>\n",
       "<style scoped>\n",
       "    .dataframe tbody tr th:only-of-type {\n",
       "        vertical-align: middle;\n",
       "    }\n",
       "\n",
       "    .dataframe tbody tr th {\n",
       "        vertical-align: top;\n",
       "    }\n",
       "\n",
       "    .dataframe thead th {\n",
       "        text-align: right;\n",
       "    }\n",
       "</style>\n",
       "<table border=\"1\" class=\"dataframe\">\n",
       "  <thead>\n",
       "    <tr style=\"text-align: right;\">\n",
       "      <th></th>\n",
       "      <th>qty</th>\n",
       "      <th>price</th>\n",
       "      <th>discount</th>\n",
       "    </tr>\n",
       "  </thead>\n",
       "  <tbody>\n",
       "    <tr>\n",
       "      <th>count</th>\n",
       "      <td>15095.000000</td>\n",
       "      <td>15095.000000</td>\n",
       "      <td>15095.000000</td>\n",
       "    </tr>\n",
       "    <tr>\n",
       "      <th>mean</th>\n",
       "      <td>2.995429</td>\n",
       "      <td>28.439218</td>\n",
       "      <td>12.103345</td>\n",
       "    </tr>\n",
       "    <tr>\n",
       "      <th>std</th>\n",
       "      <td>1.414698</td>\n",
       "      <td>15.413053</td>\n",
       "      <td>7.053933</td>\n",
       "    </tr>\n",
       "    <tr>\n",
       "      <th>min</th>\n",
       "      <td>1.000000</td>\n",
       "      <td>10.000000</td>\n",
       "      <td>0.000000</td>\n",
       "    </tr>\n",
       "    <tr>\n",
       "      <th>25%</th>\n",
       "      <td>2.000000</td>\n",
       "      <td>17.000000</td>\n",
       "      <td>6.000000</td>\n",
       "    </tr>\n",
       "    <tr>\n",
       "      <th>50%</th>\n",
       "      <td>3.000000</td>\n",
       "      <td>29.000000</td>\n",
       "      <td>12.000000</td>\n",
       "    </tr>\n",
       "    <tr>\n",
       "      <th>75%</th>\n",
       "      <td>4.000000</td>\n",
       "      <td>40.000000</td>\n",
       "      <td>18.000000</td>\n",
       "    </tr>\n",
       "    <tr>\n",
       "      <th>max</th>\n",
       "      <td>5.000000</td>\n",
       "      <td>57.000000</td>\n",
       "      <td>24.000000</td>\n",
       "    </tr>\n",
       "  </tbody>\n",
       "</table>\n",
       "</div>"
      ],
      "text/plain": [
       "                qty         price      discount\n",
       "count  15095.000000  15095.000000  15095.000000\n",
       "mean       2.995429     28.439218     12.103345\n",
       "std        1.414698     15.413053      7.053933\n",
       "min        1.000000     10.000000      0.000000\n",
       "25%        2.000000     17.000000      6.000000\n",
       "50%        3.000000     29.000000     12.000000\n",
       "75%        4.000000     40.000000     18.000000\n",
       "max        5.000000     57.000000     24.000000"
      ]
     },
     "execution_count": 14,
     "metadata": {},
     "output_type": "execute_result"
    }
   ],
   "source": [
    "sales.describe()"
   ]
  },
  {
   "cell_type": "code",
   "execution_count": 15,
   "id": "f6e3e9c1",
   "metadata": {},
   "outputs": [
    {
     "data": {
      "text/html": [
       "<div>\n",
       "<style scoped>\n",
       "    .dataframe tbody tr th:only-of-type {\n",
       "        vertical-align: middle;\n",
       "    }\n",
       "\n",
       "    .dataframe tbody tr th {\n",
       "        vertical-align: top;\n",
       "    }\n",
       "\n",
       "    .dataframe thead th {\n",
       "        text-align: right;\n",
       "    }\n",
       "</style>\n",
       "<table border=\"1\" class=\"dataframe\">\n",
       "  <thead>\n",
       "    <tr style=\"text-align: right;\">\n",
       "      <th></th>\n",
       "      <th>price</th>\n",
       "      <th>category_id</th>\n",
       "      <th>segment_id</th>\n",
       "      <th>style_id</th>\n",
       "    </tr>\n",
       "  </thead>\n",
       "  <tbody>\n",
       "    <tr>\n",
       "      <th>count</th>\n",
       "      <td>12.000000</td>\n",
       "      <td>12.000000</td>\n",
       "      <td>12.000000</td>\n",
       "      <td>12.000000</td>\n",
       "    </tr>\n",
       "    <tr>\n",
       "      <th>mean</th>\n",
       "      <td>28.333333</td>\n",
       "      <td>1.500000</td>\n",
       "      <td>4.500000</td>\n",
       "      <td>12.500000</td>\n",
       "    </tr>\n",
       "    <tr>\n",
       "      <th>std</th>\n",
       "      <td>16.069923</td>\n",
       "      <td>0.522233</td>\n",
       "      <td>1.167748</td>\n",
       "      <td>3.605551</td>\n",
       "    </tr>\n",
       "    <tr>\n",
       "      <th>min</th>\n",
       "      <td>10.000000</td>\n",
       "      <td>1.000000</td>\n",
       "      <td>3.000000</td>\n",
       "      <td>7.000000</td>\n",
       "    </tr>\n",
       "    <tr>\n",
       "      <th>25%</th>\n",
       "      <td>16.000000</td>\n",
       "      <td>1.000000</td>\n",
       "      <td>3.750000</td>\n",
       "      <td>9.750000</td>\n",
       "    </tr>\n",
       "    <tr>\n",
       "      <th>50%</th>\n",
       "      <td>26.000000</td>\n",
       "      <td>1.500000</td>\n",
       "      <td>4.500000</td>\n",
       "      <td>12.500000</td>\n",
       "    </tr>\n",
       "    <tr>\n",
       "      <th>75%</th>\n",
       "      <td>37.000000</td>\n",
       "      <td>2.000000</td>\n",
       "      <td>5.250000</td>\n",
       "      <td>15.250000</td>\n",
       "    </tr>\n",
       "    <tr>\n",
       "      <th>max</th>\n",
       "      <td>57.000000</td>\n",
       "      <td>2.000000</td>\n",
       "      <td>6.000000</td>\n",
       "      <td>18.000000</td>\n",
       "    </tr>\n",
       "  </tbody>\n",
       "</table>\n",
       "</div>"
      ],
      "text/plain": [
       "           price  category_id  segment_id   style_id\n",
       "count  12.000000    12.000000   12.000000  12.000000\n",
       "mean   28.333333     1.500000    4.500000  12.500000\n",
       "std    16.069923     0.522233    1.167748   3.605551\n",
       "min    10.000000     1.000000    3.000000   7.000000\n",
       "25%    16.000000     1.000000    3.750000   9.750000\n",
       "50%    26.000000     1.500000    4.500000  12.500000\n",
       "75%    37.000000     2.000000    5.250000  15.250000\n",
       "max    57.000000     2.000000    6.000000  18.000000"
      ]
     },
     "execution_count": 15,
     "metadata": {},
     "output_type": "execute_result"
    }
   ],
   "source": [
    "product_details.describe() # it gives statistical info ,we can also include object columns by using parameter \"include\" ,in that parameter we have to mention all"
   ]
  },
  {
   "cell_type": "markdown",
   "id": "1b23c941",
   "metadata": {},
   "source": [
    "# High Level Sales Analysis"
   ]
  },
  {
   "cell_type": "markdown",
   "id": "7e14c84d",
   "metadata": {},
   "source": [
    "## 1 ) What was the total quantity sold for all products?"
   ]
  },
  {
   "cell_type": "code",
   "execution_count": 26,
   "id": "e55cee3a",
   "metadata": {},
   "outputs": [],
   "source": [
    "# Merge the sales and product_details DataFrames\n",
    "merged_df = pd.merge(sales, product_details, left_on='prod_id', right_on='product_id', how='inner') "
   ]
  },
  {
   "cell_type": "code",
   "execution_count": 27,
   "id": "af03cac8",
   "metadata": {},
   "outputs": [
    {
     "name": "stdout",
     "output_type": "stream",
     "text": [
      "The Total Quantity sold for all products is : \n",
      "\n",
      " product_name\n",
      "Black Straight Jeans - Womens       3786\n",
      "Blue Polo Shirt - Mens              3819\n",
      "Cream Relaxed Jeans - Womens        3707\n",
      "Grey Fashion Jacket - Womens        3876\n",
      "Indigo Rain Jacket - Womens         3757\n",
      "Khaki Suit Jacket - Womens          3752\n",
      "Navy Oversized Jeans - Womens       3856\n",
      "Navy Solid Socks - Mens             3792\n",
      "Pink Fluro Polkadot Socks - Mens    3770\n",
      "Teal Button Up Shirt - Mens         3646\n",
      "White Striped Socks - Mens          3655\n",
      "White Tee Shirt - Mens              3800\n",
      "Name: qty, dtype: int64\n"
     ]
    }
   ],
   "source": [
    "data1=merged_df.copy()\n",
    "total_quantity_sold=merged_df.groupby('product_name')['qty'].sum() # taking categoricla column as prouct_id and ,applying the sum function on quantity\n",
    "print(f'The Total Quantity sold for all products is : \\n\\n {total_quantity_sold}') # writing in a format string for better understanding"
   ]
  },
  {
   "cell_type": "code",
   "execution_count": 28,
   "id": "34f7d4c4",
   "metadata": {},
   "outputs": [
    {
     "data": {
      "text/plain": [
       "45216"
      ]
     },
     "execution_count": 28,
     "metadata": {},
     "output_type": "execute_result"
    }
   ],
   "source": [
    "Total_quantity_sold=total_quantity_sold.sum()\n",
    "Total_quantity_sold"
   ]
  },
  {
   "cell_type": "code",
   "execution_count": 29,
   "id": "356f0ba2",
   "metadata": {},
   "outputs": [],
   "source": [
    "data1['Total_quantity_sold']=Total_quantity_sold"
   ]
  },
  {
   "cell_type": "code",
   "execution_count": 30,
   "id": "616ad841",
   "metadata": {},
   "outputs": [
    {
     "data": {
      "text/plain": [
       "<Axes: xlabel='Total_quantity_sold', ylabel='count'>"
      ]
     },
     "execution_count": 30,
     "metadata": {},
     "output_type": "execute_result"
    },
    {
     "data": {
      "image/png": "[encoded data removed]",
      "text/plain": [
       "<Figure size 640x480 with 1 Axes>"
      ]
     },
     "metadata": {},
     "output_type": "display_data"
    }
   ],
   "source": [
    "sns.countplot(data1,x='Total_quantity_sold',hue='product_name')"
   ]
  },
  {
   "cell_type": "markdown",
   "id": "53a8b91b",
   "metadata": {},
   "source": [
    "### Explanation on the above graph :\n",
    "* from the above graph ,we are observing Total quantity sold by the product.\n",
    "* here graph shows, same length of bars (very similar ) ,so we can conclude that,all products are equally sold \n",
    "* Total products sold is \" 45216 \""
   ]
  },
  {
   "cell_type": "code",
   "execution_count": 59,
   "id": "55955d1b",
   "metadata": {},
   "outputs": [
    {
     "data": {
      "image/png": "[encoded data removed]",
      "text/plain": [
       "<Figure size 1000x500 with 1 Axes>"
      ]
     },
     "metadata": {},
     "output_type": "display_data"
    }
   ],
   "source": [
    "plt.figure(figsize=(10, 5)) # set the figure size by using matplotlib\n",
    "sns.barplot(x='product_name', y='Total_quantity_sold', data=data1) # by using seaborn library ,im using barplot \n",
    "plt.title('Total Quantity Sold By The Product ')# by using plt.title we can set the title for the graph\n",
    "plt.xticks(rotation=75) # providing rotation for the xticks,because the names are overlapping\n",
    "plt.show()# to display the figure"
   ]
  },
  {
   "cell_type": "markdown",
   "id": "a312000d",
   "metadata": {},
   "source": [
    "## 2 ) What is the total generated revenue for all products before discounts?"
   ]
  },
  {
   "cell_type": "code",
   "execution_count": 62,
   "id": "56840d09",
   "metadata": {},
   "outputs": [
    {
     "data": {
      "text/html": [
       "<div>\n",
       "<style scoped>\n",
       "    .dataframe tbody tr th:only-of-type {\n",
       "        vertical-align: middle;\n",
       "    }\n",
       "\n",
       "    .dataframe tbody tr th {\n",
       "        vertical-align: top;\n",
       "    }\n",
       "\n",
       "    .dataframe thead th {\n",
       "        text-align: right;\n",
       "    }\n",
       "</style>\n",
       "<table border=\"1\" class=\"dataframe\">\n",
       "  <thead>\n",
       "    <tr style=\"text-align: right;\">\n",
       "      <th></th>\n",
       "      <th>prod_id</th>\n",
       "      <th>qty</th>\n",
       "      <th>price_x</th>\n",
       "      <th>discount</th>\n",
       "      <th>member</th>\n",
       "      <th>txn_id</th>\n",
       "      <th>start_txn_time</th>\n",
       "      <th>Revenue</th>\n",
       "      <th>Revenue_after_discount</th>\n",
       "      <th>product_id</th>\n",
       "      <th>price_y</th>\n",
       "      <th>product_name</th>\n",
       "      <th>category_id</th>\n",
       "      <th>segment_id</th>\n",
       "      <th>style_id</th>\n",
       "      <th>category_name</th>\n",
       "      <th>segment_name</th>\n",
       "      <th>style_name</th>\n",
       "    </tr>\n",
       "  </thead>\n",
       "  <tbody>\n",
       "    <tr>\n",
       "      <th>0</th>\n",
       "      <td>c4a632</td>\n",
       "      <td>4</td>\n",
       "      <td>13</td>\n",
       "      <td>17</td>\n",
       "      <td>t</td>\n",
       "      <td>54f307</td>\n",
       "      <td>2021-02-13 01:59:43.296</td>\n",
       "      <td>52</td>\n",
       "      <td>35</td>\n",
       "      <td>c4a632</td>\n",
       "      <td>13</td>\n",
       "      <td>Navy Oversized Jeans - Womens</td>\n",
       "      <td>1</td>\n",
       "      <td>3</td>\n",
       "      <td>7</td>\n",
       "      <td>Womens</td>\n",
       "      <td>Jeans</td>\n",
       "      <td>Navy Oversized</td>\n",
       "    </tr>\n",
       "    <tr>\n",
       "      <th>1</th>\n",
       "      <td>c4a632</td>\n",
       "      <td>5</td>\n",
       "      <td>13</td>\n",
       "      <td>21</td>\n",
       "      <td>t</td>\n",
       "      <td>26cc98</td>\n",
       "      <td>2021-01-19 01:39:00.3456</td>\n",
       "      <td>65</td>\n",
       "      <td>44</td>\n",
       "      <td>c4a632</td>\n",
       "      <td>13</td>\n",
       "      <td>Navy Oversized Jeans - Womens</td>\n",
       "      <td>1</td>\n",
       "      <td>3</td>\n",
       "      <td>7</td>\n",
       "      <td>Womens</td>\n",
       "      <td>Jeans</td>\n",
       "      <td>Navy Oversized</td>\n",
       "    </tr>\n",
       "    <tr>\n",
       "      <th>2</th>\n",
       "      <td>c4a632</td>\n",
       "      <td>1</td>\n",
       "      <td>13</td>\n",
       "      <td>21</td>\n",
       "      <td>f</td>\n",
       "      <td>ef648d</td>\n",
       "      <td>2021-01-27 02:18:17.1648</td>\n",
       "      <td>13</td>\n",
       "      <td>-8</td>\n",
       "      <td>c4a632</td>\n",
       "      <td>13</td>\n",
       "      <td>Navy Oversized Jeans - Womens</td>\n",
       "      <td>1</td>\n",
       "      <td>3</td>\n",
       "      <td>7</td>\n",
       "      <td>Womens</td>\n",
       "      <td>Jeans</td>\n",
       "      <td>Navy Oversized</td>\n",
       "    </tr>\n",
       "    <tr>\n",
       "      <th>3</th>\n",
       "      <td>c4a632</td>\n",
       "      <td>2</td>\n",
       "      <td>13</td>\n",
       "      <td>23</td>\n",
       "      <td>t</td>\n",
       "      <td>fba96f</td>\n",
       "      <td>2021-03-03 00:32:56.0544</td>\n",
       "      <td>26</td>\n",
       "      <td>3</td>\n",
       "      <td>c4a632</td>\n",
       "      <td>13</td>\n",
       "      <td>Navy Oversized Jeans - Womens</td>\n",
       "      <td>1</td>\n",
       "      <td>3</td>\n",
       "      <td>7</td>\n",
       "      <td>Womens</td>\n",
       "      <td>Jeans</td>\n",
       "      <td>Navy Oversized</td>\n",
       "    </tr>\n",
       "    <tr>\n",
       "      <th>4</th>\n",
       "      <td>c4a632</td>\n",
       "      <td>5</td>\n",
       "      <td>13</td>\n",
       "      <td>11</td>\n",
       "      <td>t</td>\n",
       "      <td>4e9268</td>\n",
       "      <td>2021-01-23 14:18:54.0576</td>\n",
       "      <td>65</td>\n",
       "      <td>54</td>\n",
       "      <td>c4a632</td>\n",
       "      <td>13</td>\n",
       "      <td>Navy Oversized Jeans - Womens</td>\n",
       "      <td>1</td>\n",
       "      <td>3</td>\n",
       "      <td>7</td>\n",
       "      <td>Womens</td>\n",
       "      <td>Jeans</td>\n",
       "      <td>Navy Oversized</td>\n",
       "    </tr>\n",
       "    <tr>\n",
       "      <th>...</th>\n",
       "      <td>...</td>\n",
       "      <td>...</td>\n",
       "      <td>...</td>\n",
       "      <td>...</td>\n",
       "      <td>...</td>\n",
       "      <td>...</td>\n",
       "      <td>...</td>\n",
       "      <td>...</td>\n",
       "      <td>...</td>\n",
       "      <td>...</td>\n",
       "      <td>...</td>\n",
       "      <td>...</td>\n",
       "      <td>...</td>\n",
       "      <td>...</td>\n",
       "      <td>...</td>\n",
       "      <td>...</td>\n",
       "      <td>...</td>\n",
       "      <td>...</td>\n",
       "    </tr>\n",
       "    <tr>\n",
       "      <th>15090</th>\n",
       "      <td>c8d436</td>\n",
       "      <td>1</td>\n",
       "      <td>10</td>\n",
       "      <td>20</td>\n",
       "      <td>t</td>\n",
       "      <td>359542</td>\n",
       "      <td>2021-03-02 07:12:38.88</td>\n",
       "      <td>10</td>\n",
       "      <td>-10</td>\n",
       "      <td>c8d436</td>\n",
       "      <td>10</td>\n",
       "      <td>Teal Button Up Shirt - Mens</td>\n",
       "      <td>2</td>\n",
       "      <td>5</td>\n",
       "      <td>14</td>\n",
       "      <td>Mens</td>\n",
       "      <td>Shirt</td>\n",
       "      <td>Teal Button Up</td>\n",
       "    </tr>\n",
       "    <tr>\n",
       "      <th>15091</th>\n",
       "      <td>c8d436</td>\n",
       "      <td>2</td>\n",
       "      <td>10</td>\n",
       "      <td>13</td>\n",
       "      <td>f</td>\n",
       "      <td>f905a2</td>\n",
       "      <td>2021-03-07 19:15:40.2336</td>\n",
       "      <td>20</td>\n",
       "      <td>7</td>\n",
       "      <td>c8d436</td>\n",
       "      <td>10</td>\n",
       "      <td>Teal Button Up Shirt - Mens</td>\n",
       "      <td>2</td>\n",
       "      <td>5</td>\n",
       "      <td>14</td>\n",
       "      <td>Mens</td>\n",
       "      <td>Shirt</td>\n",
       "      <td>Teal Button Up</td>\n",
       "    </tr>\n",
       "    <tr>\n",
       "      <th>15092</th>\n",
       "      <td>c8d436</td>\n",
       "      <td>1</td>\n",
       "      <td>10</td>\n",
       "      <td>6</td>\n",
       "      <td>t</td>\n",
       "      <td>ba59c1</td>\n",
       "      <td>2021-02-08 12:26:55.5072</td>\n",
       "      <td>10</td>\n",
       "      <td>4</td>\n",
       "      <td>c8d436</td>\n",
       "      <td>10</td>\n",
       "      <td>Teal Button Up Shirt - Mens</td>\n",
       "      <td>2</td>\n",
       "      <td>5</td>\n",
       "      <td>14</td>\n",
       "      <td>Mens</td>\n",
       "      <td>Shirt</td>\n",
       "      <td>Teal Button Up</td>\n",
       "    </tr>\n",
       "    <tr>\n",
       "      <th>15093</th>\n",
       "      <td>c8d436</td>\n",
       "      <td>3</td>\n",
       "      <td>10</td>\n",
       "      <td>12</td>\n",
       "      <td>f</td>\n",
       "      <td>15cfae</td>\n",
       "      <td>2021-02-09 22:01:44.6592</td>\n",
       "      <td>30</td>\n",
       "      <td>18</td>\n",
       "      <td>c8d436</td>\n",
       "      <td>10</td>\n",
       "      <td>Teal Button Up Shirt - Mens</td>\n",
       "      <td>2</td>\n",
       "      <td>5</td>\n",
       "      <td>14</td>\n",
       "      <td>Mens</td>\n",
       "      <td>Shirt</td>\n",
       "      <td>Teal Button Up</td>\n",
       "    </tr>\n",
       "    <tr>\n",
       "      <th>15094</th>\n",
       "      <td>c8d436</td>\n",
       "      <td>1</td>\n",
       "      <td>10</td>\n",
       "      <td>14</td>\n",
       "      <td>f</td>\n",
       "      <td>72cd63</td>\n",
       "      <td>2021-01-13 12:47:38.6304</td>\n",
       "      <td>10</td>\n",
       "      <td>-4</td>\n",
       "      <td>c8d436</td>\n",
       "      <td>10</td>\n",
       "      <td>Teal Button Up Shirt - Mens</td>\n",
       "      <td>2</td>\n",
       "      <td>5</td>\n",
       "      <td>14</td>\n",
       "      <td>Mens</td>\n",
       "      <td>Shirt</td>\n",
       "      <td>Teal Button Up</td>\n",
       "    </tr>\n",
       "  </tbody>\n",
       "</table>\n",
       "<p>15095 rows × 18 columns</p>\n",
       "</div>"
      ],
      "text/plain": [
       "      prod_id  qty  price_x  discount member  txn_id  \\\n",
       "0      c4a632    4       13        17      t  54f307   \n",
       "1      c4a632    5       13        21      t  26cc98   \n",
       "2      c4a632    1       13        21      f  ef648d   \n",
       "3      c4a632    2       13        23      t  fba96f   \n",
       "4      c4a632    5       13        11      t  4e9268   \n",
       "...       ...  ...      ...       ...    ...     ...   \n",
       "15090  c8d436    1       10        20      t  359542   \n",
       "15091  c8d436    2       10        13      f  f905a2   \n",
       "15092  c8d436    1       10         6      t  ba59c1   \n",
       "15093  c8d436    3       10        12      f  15cfae   \n",
       "15094  c8d436    1       10        14      f  72cd63   \n",
       "\n",
       "                 start_txn_time  Revenue  Revenue_after_discount product_id  \\\n",
       "0       2021-02-13 01:59:43.296       52                      35     c4a632   \n",
       "1      2021-01-19 01:39:00.3456       65                      44     c4a632   \n",
       "2      2021-01-27 02:18:17.1648       13                      -8     c4a632   \n",
       "3      2021-03-03 00:32:56.0544       26                       3     c4a632   \n",
       "4      2021-01-23 14:18:54.0576       65                      54     c4a632   \n",
       "...                         ...      ...                     ...        ...   \n",
       "15090    2021-03-02 07:12:38.88       10                     -10     c8d436   \n",
       "15091  2021-03-07 19:15:40.2336       20                       7     c8d436   \n",
       "15092  2021-02-08 12:26:55.5072       10                       4     c8d436   \n",
       "15093  2021-02-09 22:01:44.6592       30                      18     c8d436   \n",
       "15094  2021-01-13 12:47:38.6304       10                      -4     c8d436   \n",
       "\n",
       "       price_y                   product_name  category_id  segment_id  \\\n",
       "0           13  Navy Oversized Jeans - Womens            1           3   \n",
       "1           13  Navy Oversized Jeans - Womens            1           3   \n",
       "2           13  Navy Oversized Jeans - Womens            1           3   \n",
       "3           13  Navy Oversized Jeans - Womens            1           3   \n",
       "4           13  Navy Oversized Jeans - Womens            1           3   \n",
       "...        ...                            ...          ...         ...   \n",
       "15090       10    Teal Button Up Shirt - Mens            2           5   \n",
       "15091       10    Teal Button Up Shirt - Mens            2           5   \n",
       "15092       10    Teal Button Up Shirt - Mens            2           5   \n",
       "15093       10    Teal Button Up Shirt - Mens            2           5   \n",
       "15094       10    Teal Button Up Shirt - Mens            2           5   \n",
       "\n",
       "       style_id category_name segment_name      style_name  \n",
       "0             7        Womens        Jeans  Navy Oversized  \n",
       "1             7        Womens        Jeans  Navy Oversized  \n",
       "2             7        Womens        Jeans  Navy Oversized  \n",
       "3             7        Womens        Jeans  Navy Oversized  \n",
       "4             7        Womens        Jeans  Navy Oversized  \n",
       "...         ...           ...          ...             ...  \n",
       "15090        14          Mens        Shirt  Teal Button Up  \n",
       "15091        14          Mens        Shirt  Teal Button Up  \n",
       "15092        14          Mens        Shirt  Teal Button Up  \n",
       "15093        14          Mens        Shirt  Teal Button Up  \n",
       "15094        14          Mens        Shirt  Teal Button Up  \n",
       "\n",
       "[15095 rows x 18 columns]"
      ]
     },
     "execution_count": 62,
     "metadata": {},
     "output_type": "execute_result"
    }
   ],
   "source": [
    "merged_df"
   ]
  },
  {
   "cell_type": "code",
   "execution_count": 65,
   "id": "f3e80aa4",
   "metadata": {},
   "outputs": [
    {
     "name": "stdout",
     "output_type": "stream",
     "text": [
      "The Total generated revenue for all products before discounts : \n",
      "\n",
      " product_name\n",
      "Black Straight Jeans - Womens       121152\n",
      "Blue Polo Shirt - Mens              217683\n",
      "Cream Relaxed Jeans - Womens         37070\n",
      "Grey Fashion Jacket - Womens        209304\n",
      "Indigo Rain Jacket - Womens          71383\n",
      "Khaki Suit Jacket - Womens           86296\n",
      "Navy Oversized Jeans - Womens        50128\n",
      "Navy Solid Socks - Mens             136512\n",
      "Pink Fluro Polkadot Socks - Mens    109330\n",
      "Teal Button Up Shirt - Mens          36460\n",
      "White Striped Socks - Mens           62135\n",
      "White Tee Shirt - Mens              152000\n",
      "Name: Revenue, dtype: int64\n"
     ]
    }
   ],
   "source": [
    "merged_df['Revenue']=merged_df['qty'] * merged_df['price_x']\n",
    "Total_revenue_before_discount=merged_df.groupby('product_name')['Revenue'].sum()\n",
    "print(f'The Total generated revenue for all products before discounts : \\n\\n {Total_revenue_before_discount}')"
   ]
  },
  {
   "cell_type": "code",
   "execution_count": 66,
   "id": "c2e5f99f",
   "metadata": {},
   "outputs": [
    {
     "data": {
      "text/plain": [
       "1289453"
      ]
     },
     "execution_count": 66,
     "metadata": {},
     "output_type": "execute_result"
    }
   ],
   "source": [
    "Total_revenue_before_discount.sum()"
   ]
  },
  {
   "cell_type": "markdown",
   "id": "c9d8206f",
   "metadata": {},
   "source": [
    "## total generated revenue for all products after discounts"
   ]
  },
  {
   "cell_type": "code",
   "execution_count": 23,
   "id": "8b11baba",
   "metadata": {},
   "outputs": [
    {
     "name": "stdout",
     "output_type": "stream",
     "text": [
      "The Total generated revenue for all products after discounts : \n",
      "\n",
      " prod_id\n",
      "2a2353    202130\n",
      "2feb6b     94384\n",
      "5d267b    136513\n",
      "72f5d4     56100\n",
      "9ec847    193804\n",
      "b9a74d     47262\n",
      "c4a632     34710\n",
      "c8d436     21457\n",
      "d5e9a6     71627\n",
      "e31d39     22005\n",
      "e83aa3    105895\n",
      "f084eb    120866\n",
      "Name: Revenue_after_discount, dtype: int64\n"
     ]
    }
   ],
   "source": [
    "sales['Revenue_after_discount']=sales['Revenue']-sales['discount']\n",
    "Total_revenue_after_discount=sales.groupby('prod_id')['Revenue_after_discount'].sum()\n",
    "print(f'The Total generated revenue for all products after discounts : \\n\\n {Total_revenue_after_discount}')"
   ]
  },
  {
   "cell_type": "code",
   "execution_count": 24,
   "id": "1878716f",
   "metadata": {},
   "outputs": [
    {
     "data": {
      "text/plain": [
       "1106753"
      ]
     },
     "execution_count": 24,
     "metadata": {},
     "output_type": "execute_result"
    }
   ],
   "source": [
    "Total_revenue_after_discount.sum()"
   ]
  },
  {
   "cell_type": "markdown",
   "id": "17a65b45",
   "metadata": {},
   "source": [
    "## 3 ) What was the total discount amount for all products?"
   ]
  },
  {
   "cell_type": "code",
   "execution_count": 33,
   "id": "23f9de63",
   "metadata": {},
   "outputs": [
    {
     "name": "stdout",
     "output_type": "stream",
     "text": [
      "the total_discount_amount for all product : \n",
      "\n",
      " prod_id\n",
      "2a2353    15553\n",
      "2feb6b    14946\n",
      "5d267b    15487\n",
      "72f5d4    15283\n",
      "9ec847    15500\n",
      "b9a74d    14873\n",
      "c4a632    15418\n",
      "c8d436    15003\n",
      "d5e9a6    14669\n",
      "e31d39    15065\n",
      "e83aa3    15257\n",
      "f084eb    15646\n",
      "Name: discount, dtype: int64\n"
     ]
    }
   ],
   "source": [
    "total_discount_amount=sales.groupby('prod_id')['discount'].sum()\n",
    "print(f'the total_discount_amount for all product : \\n\\n {total_discount_amount}')"
   ]
  },
  {
   "cell_type": "code",
   "execution_count": 34,
   "id": "dd999ecf",
   "metadata": {},
   "outputs": [
    {
     "data": {
      "text/plain": [
       "182700"
      ]
     },
     "execution_count": 34,
     "metadata": {},
     "output_type": "execute_result"
    }
   ],
   "source": [
    "total_discount_amount.sum()"
   ]
  },
  {
   "cell_type": "markdown",
   "id": "a51905e9",
   "metadata": {},
   "source": [
    "# Transaction Analysis"
   ]
  },
  {
   "cell_type": "markdown",
   "id": "e23b50c1",
   "metadata": {},
   "source": [
    "## 1 )  How many unique transactions were there?"
   ]
  },
  {
   "cell_type": "code",
   "execution_count": 22,
   "id": "d5823e82",
   "metadata": {},
   "outputs": [
    {
     "data": {
      "text/plain": [
       "array(['54f307', '26cc98', 'ef648d', ..., '72cd63', 'f15ab3', '93620b'],\n",
       "      dtype=object)"
      ]
     },
     "execution_count": 22,
     "metadata": {},
     "output_type": "execute_result"
    }
   ],
   "source": [
    "sales['txn_id'].unique() # unique transaction ids  ,by using unique we can access unique names from the particular column (without-repeatition)"
   ]
  },
  {
   "cell_type": "code",
   "execution_count": 23,
   "id": "775ef558",
   "metadata": {},
   "outputs": [
    {
     "data": {
      "text/plain": [
       "2500"
      ]
     },
     "execution_count": 23,
     "metadata": {},
     "output_type": "execute_result"
    }
   ],
   "source": [
    "sales['txn_id'].nunique() #  no of unique transaction ids "
   ]
  },
  {
   "cell_type": "markdown",
   "id": "608ef14d",
   "metadata": {},
   "source": [
    "## 2 ) What is the average unique products purchased in each transaction?"
   ]
  },
  {
   "cell_type": "markdown",
   "id": "99eac6ba",
   "metadata": {},
   "source": [
    "### avg by product"
   ]
  },
  {
   "cell_type": "code",
   "execution_count": 39,
   "id": "6289c9c4",
   "metadata": {},
   "outputs": [
    {
     "data": {
      "text/plain": [
       "2.995428949983438"
      ]
     },
     "execution_count": 39,
     "metadata": {},
     "output_type": "execute_result"
    }
   ],
   "source": [
    "sales.groupby(['txn_id','prod_id'])['qty'].sum().mean() # groubying tnx_id and product_id,fiding avg on qty column"
   ]
  },
  {
   "cell_type": "markdown",
   "id": "c5061234",
   "metadata": {},
   "source": [
    "### avg by unique products "
   ]
  },
  {
   "cell_type": "code",
   "execution_count": 40,
   "id": "2a3a01a6",
   "metadata": {},
   "outputs": [
    {
     "name": "stdout",
     "output_type": "stream",
     "text": [
      "Average unique products purchased in each transaction: 6.038\n"
     ]
    }
   ],
   "source": [
    "average_unique_products_per_transaction = sales.groupby('txn_id')['prod_id'].nunique().mean()\n",
    "print(f\"Average unique products purchased in each transaction: {average_unique_products_per_transaction}\")"
   ]
  },
  {
   "cell_type": "code",
   "execution_count": 41,
   "id": "8e326b1a",
   "metadata": {},
   "outputs": [
    {
     "name": "stdout",
     "output_type": "stream",
     "text": [
      "Average unique products purchased in each transaction: 6.0\n"
     ]
    }
   ],
   "source": [
    "average_unique_products_per_transaction = sales.groupby('txn_id')['prod_id'].nunique().median()\n",
    "print(f\"Average unique products purchased in each transaction: {average_unique_products_per_transaction}\")"
   ]
  },
  {
   "cell_type": "markdown",
   "id": "757c843a",
   "metadata": {},
   "source": [
    "## 3 ) What are the 25th, 50th and 75th percentile values for the revenue per transaction?"
   ]
  },
  {
   "cell_type": "markdown",
   "id": "6ad33d17",
   "metadata": {},
   "source": [
    "### 25% data"
   ]
  },
  {
   "cell_type": "code",
   "execution_count": 28,
   "id": "85d978c2",
   "metadata": {},
   "outputs": [
    {
     "name": "stdout",
     "output_type": "stream",
     "text": [
      " the 25% value for the revenue per transaction :\n",
      "\n",
      " txn_id\n",
      "000027    29.50\n",
      "000106    21.75\n",
      "000dd8    14.00\n",
      "003920    37.00\n",
      "003c6d    41.50\n",
      "          ...  \n",
      "ff753a    66.00\n",
      "ff7974    50.00\n",
      "ffac3f    65.75\n",
      "fff8ca    54.50\n",
      "fffa11    61.25\n",
      "Name: Revenue, Length: 2500, dtype: float64\n"
     ]
    }
   ],
   "source": [
    "percentage_25=sales.groupby('txn_id')['Revenue'].quantile(0.25) # by using quantile ,we can access 25% of values\n",
    "\n",
    "print(f' the 25% value for the revenue per transaction :\\n\\n {percentage_25}')"
   ]
  },
  {
   "cell_type": "markdown",
   "id": "8fd90cf8",
   "metadata": {},
   "source": [
    "### Total Percentile Values "
   ]
  },
  {
   "cell_type": "code",
   "execution_count": 29,
   "id": "9a72e350",
   "metadata": {},
   "outputs": [
    {
     "data": {
      "text/plain": [
       "375.75"
      ]
     },
     "execution_count": 29,
     "metadata": {},
     "output_type": "execute_result"
    }
   ],
   "source": [
    "sales.groupby('txn_id')['Revenue'].sum().quantile(0.25)"
   ]
  },
  {
   "cell_type": "markdown",
   "id": "bc5fe5dd",
   "metadata": {},
   "source": [
    "### 50% data "
   ]
  },
  {
   "cell_type": "code",
   "execution_count": 30,
   "id": "b5b4fc4c",
   "metadata": {},
   "outputs": [
    {
     "name": "stdout",
     "output_type": "stream",
     "text": [
      " the 50% value for the revenue per transaction :\n",
      "\n",
      " txn_id\n",
      "000027     34.0\n",
      "000106     76.0\n",
      "000dd8     27.5\n",
      "003920     54.5\n",
      "003c6d     69.0\n",
      "          ...  \n",
      "ff753a    114.5\n",
      "ff7974     64.0\n",
      "ffac3f     93.5\n",
      "fff8ca     91.0\n",
      "fffa11     82.0\n",
      "Name: Revenue, Length: 2500, dtype: float64\n"
     ]
    }
   ],
   "source": [
    "median_of_data=sales.groupby('txn_id')['Revenue'].median() # for accesing 50% value,we can use median __>it gives 50% value\n",
    "print(f' the 50% value for the revenue per transaction :\\n\\n {median_of_data}')"
   ]
  },
  {
   "cell_type": "markdown",
   "id": "a448f16b",
   "metadata": {},
   "source": [
    "### Total Percentile Values "
   ]
  },
  {
   "cell_type": "code",
   "execution_count": 31,
   "id": "854ecc66",
   "metadata": {},
   "outputs": [
    {
     "data": {
      "text/plain": [
       "509.5"
      ]
     },
     "execution_count": 31,
     "metadata": {},
     "output_type": "execute_result"
    }
   ],
   "source": [
    "sales.groupby('txn_id')['Revenue'].sum().median()"
   ]
  },
  {
   "cell_type": "markdown",
   "id": "aece9d68",
   "metadata": {},
   "source": [
    "### 75% data"
   ]
  },
  {
   "cell_type": "code",
   "execution_count": 32,
   "id": "6b8eaa99",
   "metadata": {},
   "outputs": [
    {
     "name": "stdout",
     "output_type": "stream",
     "text": [
      " the 75% value for the revenue per transaction : \n",
      "\n",
      " txn_id\n",
      "000027    120.00\n",
      "000106    113.75\n",
      "000dd8     31.25\n",
      "003920    167.25\n",
      "003c6d     97.50\n",
      "           ...  \n",
      "ff753a    163.75\n",
      "ff7974    115.00\n",
      "ffac3f    143.75\n",
      "fff8ca    148.50\n",
      "fffa11    126.00\n",
      "Name: Revenue, Length: 2500, dtype: float64\n"
     ]
    }
   ],
   "source": [
    "percentage_75=sales.groupby('txn_id')['Revenue'].quantile(0.75) # by using quanitle\n",
    "print(f' the 75% value for the revenue per transaction : \\n\\n {percentage_75}')"
   ]
  },
  {
   "cell_type": "markdown",
   "id": "44750f18",
   "metadata": {},
   "source": [
    "### Total Percentile Values "
   ]
  },
  {
   "cell_type": "code",
   "execution_count": 33,
   "id": "0df342e2",
   "metadata": {},
   "outputs": [
    {
     "data": {
      "text/plain": [
       "647.0"
      ]
     },
     "execution_count": 33,
     "metadata": {},
     "output_type": "execute_result"
    }
   ],
   "source": [
    "sales.groupby('txn_id')['Revenue'].sum().quantile(0.75)"
   ]
  },
  {
   "cell_type": "markdown",
   "id": "d1352ab7",
   "metadata": {},
   "source": [
    "## 4 ) What is the average discount value per transaction?"
   ]
  },
  {
   "cell_type": "code",
   "execution_count": 93,
   "id": "18028646",
   "metadata": {},
   "outputs": [
    {
     "data": {
      "text/plain": [
       "txn_id\n",
       "000027    13.0\n",
       "000106    12.0\n",
       "000dd8     6.0\n",
       "003920    18.0\n",
       "003c6d    13.0\n",
       "          ... \n",
       "ff753a     9.0\n",
       "ff7974     0.0\n",
       "ffac3f    24.0\n",
       "fff8ca     3.0\n",
       "fffa11    14.0\n",
       "Name: discount, Length: 2500, dtype: float64"
      ]
     },
     "execution_count": 93,
     "metadata": {},
     "output_type": "execute_result"
    }
   ],
   "source": [
    "sales.groupby('txn_id')['discount'].mean()# groupby on txn_id ,and applying mean on discount column "
   ]
  },
  {
   "cell_type": "code",
   "execution_count": 94,
   "id": "878acd24",
   "metadata": {},
   "outputs": [
    {
     "data": {
      "text/plain": [
       "73.08"
      ]
     },
     "execution_count": 94,
     "metadata": {},
     "output_type": "execute_result"
    }
   ],
   "source": [
    "sales.groupby('txn_id')['discount'].sum().mean()"
   ]
  },
  {
   "cell_type": "markdown",
   "id": "7c4bf96b",
   "metadata": {},
   "source": [
    "## 5 ) What is the percentage split of all transactions for members vs non-members?\n"
   ]
  },
  {
   "cell_type": "code",
   "execution_count": 95,
   "id": "4e26f5b7",
   "metadata": {},
   "outputs": [
    {
     "data": {
      "text/plain": [
       "15095"
      ]
     },
     "execution_count": 95,
     "metadata": {},
     "output_type": "execute_result"
    }
   ],
   "source": [
    "total_transactions=sales['txn_id'].value_counts().sum()\n",
    "total_transactions"
   ]
  },
  {
   "cell_type": "code",
   "execution_count": 96,
   "id": "825c8baf",
   "metadata": {},
   "outputs": [
    {
     "name": "stdout",
     "output_type": "stream",
     "text": [
      " Membership count :\n",
      " 9061\n",
      "\n",
      " NOn_mebership count :\n",
      " 6034\n"
     ]
    }
   ],
   "source": [
    "members_data= sales[sales['member']=='t']# accessing only members data which is 't'\n",
    "members_count=members_data['member'].value_counts().sum() # summing the all value_counts for members column ,we cannot directly sum on members column becouse it is a categorical\n",
    "non_members_data=sales[sales['member']=='f'] # accessing only members data which is 'f'\n",
    "non_members_count=non_members_data['member'].value_counts().sum()\n",
    "print(f' Membership count :\\n {members_count}')\n",
    "print(f'\\n NOn_mebership count :\\n {non_members_count}')"
   ]
  },
  {
   "cell_type": "code",
   "execution_count": 97,
   "id": "8bf6ab3d",
   "metadata": {},
   "outputs": [
    {
     "name": "stdout",
     "output_type": "stream",
     "text": [
      "Percentage of transactions for members:\n",
      " 60.03%\n",
      "\n",
      "Percentage of transactions for non-members: \n",
      " 39.97%\n"
     ]
    }
   ],
   "source": [
    "percentage_members = ( members_count/ total_transactions) * 100 # it gives percentage of members data\n",
    "percentage_non_members = ( non_members_count/ total_transactions) * 100 # it gives percentage of non-members data\n",
    "\n",
    "print(f\"Percentage of transactions for members:\\n {percentage_members:.2f}%\") # .2f is says that ,we want only 2 numbers afters decimal point\n",
    "print(f\"\\nPercentage of transactions for non-members: \\n {percentage_non_members:.2f}%\") # f says fixed point"
   ]
  },
  {
   "cell_type": "code",
   "execution_count": 98,
   "id": "164bbf0c",
   "metadata": {},
   "outputs": [
    {
     "name": "stdout",
     "output_type": "stream",
     "text": [
      "Percentage of transactions for members:\n",
      " 60.02649884067572\n",
      "\n",
      "Percentage of transactions for non-members: \n",
      " 39.97350115932428\n"
     ]
    }
   ],
   "source": [
    "print(f\"Percentage of transactions for members:\\n {percentage_members}\")\n",
    "print(f\"\\nPercentage of transactions for non-members: \\n {percentage_non_members}\")"
   ]
  },
  {
   "cell_type": "code",
   "execution_count": 100,
   "id": "d57196cf",
   "metadata": {},
   "outputs": [
    {
     "data": {
      "image/png": "[encoded data removed]",
      "text/plain": [
       "<Figure size 800x600 with 1 Axes>"
      ]
     },
     "metadata": {},
     "output_type": "display_data"
    }
   ],
   "source": [
    "labels = ['Member Transactions', 'Non-Member Transactions']\n",
    "sizes = [percentage_members, percentage_non_members]\n",
    "colors = ['skyblue','pink']\n",
    "explode = (0.1, 0) \n",
    "plt.figure(figsize=(8, 6))\n",
    "plt.pie(sizes, explode=explode, labels=labels, colors=colors, autopct='%1.1f%%', startangle=90)\n",
    "plt.title('Percentage of Transactions for members vs non-members')\n",
    "plt.show()"
   ]
  },
  {
   "cell_type": "markdown",
   "id": "280c6de6",
   "metadata": {},
   "source": [
    "### Explanation Of the above graph "
   ]
  },
  {
   "cell_type": "markdown",
   "id": "d47871c2",
   "metadata": {},
   "source": [
    "* we are looking the percentage of members and non-members transactions\n",
    "* we are absorving,60.0 of the peoples are members \n",
    "* 40% are non- members"
   ]
  },
  {
   "cell_type": "markdown",
   "id": "960ce252",
   "metadata": {},
   "source": [
    "## 6 ) What is the average revenue for member transactions and non-member transactions?"
   ]
  },
  {
   "cell_type": "code",
   "execution_count": 118,
   "id": "c46707b6",
   "metadata": {},
   "outputs": [
    {
     "name": "stdout",
     "output_type": "stream",
     "text": [
      "the average revenue for member transactions :\n",
      " 85.75035868005739\n"
     ]
    }
   ],
   "source": [
    "avaerage_revenue_for_mebers= sales[sales['member']=='t']['Revenue'].mean() # finding the mean of revenue for member transactions\n",
    "print(f'the average revenue for member transactions :\\n {avaerage_revenue_for_mebers}')"
   ]
  },
  {
   "cell_type": "code",
   "execution_count": 121,
   "id": "f6532afc",
   "metadata": {},
   "outputs": [
    {
     "name": "stdout",
     "output_type": "stream",
     "text": [
      "the average revenue for member transactions :\n",
      " 84.9302287040106\n"
     ]
    }
   ],
   "source": [
    "avaerage_revenue_for_mebers= sales[sales['member']=='f']['Revenue'].mean()# finding the mean of revenue for non-member transactions\n",
    "print(f'the average revenue for member transactions :\\n {avaerage_revenue_for_mebers}')"
   ]
  },
  {
   "cell_type": "markdown",
   "id": "6a2f38ac",
   "metadata": {},
   "source": [
    "# Product Analysis\n"
   ]
  },
  {
   "cell_type": "markdown",
   "id": "27603838",
   "metadata": {},
   "source": [
    "## 1 )What are the top 3 products by total revenue before discount?"
   ]
  },
  {
   "cell_type": "code",
   "execution_count": 122,
   "id": "08b69cfc",
   "metadata": {},
   "outputs": [
    {
     "data": {
      "text/plain": [
       "product_name\n",
       "Blue Polo Shirt - Mens          217683\n",
       "Grey Fashion Jacket - Womens    209304\n",
       "White Tee Shirt - Mens          152000\n",
       "Name: Revenue, dtype: int64"
      ]
     },
     "execution_count": 122,
     "metadata": {},
     "output_type": "execute_result"
    }
   ],
   "source": [
    "product_prices=merged_df.groupby('product_name')['Revenue'].sum()\n",
    "sorting_prices=product_prices.sort_values(ascending=False)[0:3] # for accessing top 3 ,im using slicing ,(ascending=False)-->it gives highest to lowest \n",
    "sorting_prices"
   ]
  },
  {
   "cell_type": "markdown",
   "id": "cd05a8e7",
   "metadata": {},
   "source": [
    "## 2 ) What is the total quantity, revenue and discount for each segment?"
   ]
  },
  {
   "cell_type": "code",
   "execution_count": 123,
   "id": "1f714913",
   "metadata": {},
   "outputs": [
    {
     "data": {
      "text/html": [
       "<div>\n",
       "<style scoped>\n",
       "    .dataframe tbody tr th:only-of-type {\n",
       "        vertical-align: middle;\n",
       "    }\n",
       "\n",
       "    .dataframe tbody tr th {\n",
       "        vertical-align: top;\n",
       "    }\n",
       "\n",
       "    .dataframe thead th {\n",
       "        text-align: right;\n",
       "    }\n",
       "</style>\n",
       "<table border=\"1\" class=\"dataframe\">\n",
       "  <thead>\n",
       "    <tr style=\"text-align: right;\">\n",
       "      <th></th>\n",
       "      <th>segment_name</th>\n",
       "      <th>qty</th>\n",
       "      <th>Revenue</th>\n",
       "      <th>discount</th>\n",
       "    </tr>\n",
       "  </thead>\n",
       "  <tbody>\n",
       "    <tr>\n",
       "      <th>0</th>\n",
       "      <td>Jacket</td>\n",
       "      <td>11385</td>\n",
       "      <td>366983</td>\n",
       "      <td>45452</td>\n",
       "    </tr>\n",
       "    <tr>\n",
       "      <th>1</th>\n",
       "      <td>Jeans</td>\n",
       "      <td>11349</td>\n",
       "      <td>208350</td>\n",
       "      <td>45740</td>\n",
       "    </tr>\n",
       "    <tr>\n",
       "      <th>2</th>\n",
       "      <td>Shirt</td>\n",
       "      <td>11265</td>\n",
       "      <td>406143</td>\n",
       "      <td>46043</td>\n",
       "    </tr>\n",
       "    <tr>\n",
       "      <th>3</th>\n",
       "      <td>Socks</td>\n",
       "      <td>11217</td>\n",
       "      <td>307977</td>\n",
       "      <td>45465</td>\n",
       "    </tr>\n",
       "  </tbody>\n",
       "</table>\n",
       "</div>"
      ],
      "text/plain": [
       "  segment_name    qty  Revenue  discount\n",
       "0       Jacket  11385   366983     45452\n",
       "1        Jeans  11349   208350     45740\n",
       "2        Shirt  11265   406143     46043\n",
       "3        Socks  11217   307977     45465"
      ]
     },
     "execution_count": 123,
     "metadata": {},
     "output_type": "execute_result"
    }
   ],
   "source": [
    "segment_total_name = merged_df.groupby(['segment_name']).agg({\n",
    "    'qty' : 'sum',\n",
    "    'Revenue': 'sum',\n",
    "    'discount': 'sum'}).reset_index()\n",
    "segment_total_name "
   ]
  },
  {
   "cell_type": "markdown",
   "id": "e777cbd6",
   "metadata": {},
   "source": [
    "## 3 )What is the top selling product for each segment?"
   ]
  },
  {
   "cell_type": "code",
   "execution_count": 124,
   "id": "3b3292fc",
   "metadata": {},
   "outputs": [
    {
     "data": {
      "text/html": [
       "<div>\n",
       "<style scoped>\n",
       "    .dataframe tbody tr th:only-of-type {\n",
       "        vertical-align: middle;\n",
       "    }\n",
       "\n",
       "    .dataframe tbody tr th {\n",
       "        vertical-align: top;\n",
       "    }\n",
       "\n",
       "    .dataframe thead th {\n",
       "        text-align: right;\n",
       "    }\n",
       "</style>\n",
       "<table border=\"1\" class=\"dataframe\">\n",
       "  <thead>\n",
       "    <tr style=\"text-align: right;\">\n",
       "      <th></th>\n",
       "      <th>prod_id</th>\n",
       "      <th>qty</th>\n",
       "      <th>price_x</th>\n",
       "      <th>discount</th>\n",
       "      <th>member</th>\n",
       "      <th>txn_id</th>\n",
       "      <th>start_txn_time</th>\n",
       "      <th>Revenue</th>\n",
       "      <th>Revenue_after_discount</th>\n",
       "      <th>product_id</th>\n",
       "      <th>price_y</th>\n",
       "      <th>product_name</th>\n",
       "      <th>category_id</th>\n",
       "      <th>segment_id</th>\n",
       "      <th>style_id</th>\n",
       "      <th>category_name</th>\n",
       "      <th>segment_name</th>\n",
       "      <th>style_name</th>\n",
       "    </tr>\n",
       "  </thead>\n",
       "  <tbody>\n",
       "    <tr>\n",
       "      <th>0</th>\n",
       "      <td>c4a632</td>\n",
       "      <td>4</td>\n",
       "      <td>13</td>\n",
       "      <td>17</td>\n",
       "      <td>t</td>\n",
       "      <td>54f307</td>\n",
       "      <td>2021-02-13 01:59:43.296</td>\n",
       "      <td>52</td>\n",
       "      <td>35</td>\n",
       "      <td>c4a632</td>\n",
       "      <td>13</td>\n",
       "      <td>Navy Oversized Jeans - Womens</td>\n",
       "      <td>1</td>\n",
       "      <td>3</td>\n",
       "      <td>7</td>\n",
       "      <td>Womens</td>\n",
       "      <td>Jeans</td>\n",
       "      <td>Navy Oversized</td>\n",
       "    </tr>\n",
       "    <tr>\n",
       "      <th>1</th>\n",
       "      <td>c4a632</td>\n",
       "      <td>5</td>\n",
       "      <td>13</td>\n",
       "      <td>21</td>\n",
       "      <td>t</td>\n",
       "      <td>26cc98</td>\n",
       "      <td>2021-01-19 01:39:00.3456</td>\n",
       "      <td>65</td>\n",
       "      <td>44</td>\n",
       "      <td>c4a632</td>\n",
       "      <td>13</td>\n",
       "      <td>Navy Oversized Jeans - Womens</td>\n",
       "      <td>1</td>\n",
       "      <td>3</td>\n",
       "      <td>7</td>\n",
       "      <td>Womens</td>\n",
       "      <td>Jeans</td>\n",
       "      <td>Navy Oversized</td>\n",
       "    </tr>\n",
       "    <tr>\n",
       "      <th>2</th>\n",
       "      <td>c4a632</td>\n",
       "      <td>1</td>\n",
       "      <td>13</td>\n",
       "      <td>21</td>\n",
       "      <td>f</td>\n",
       "      <td>ef648d</td>\n",
       "      <td>2021-01-27 02:18:17.1648</td>\n",
       "      <td>13</td>\n",
       "      <td>-8</td>\n",
       "      <td>c4a632</td>\n",
       "      <td>13</td>\n",
       "      <td>Navy Oversized Jeans - Womens</td>\n",
       "      <td>1</td>\n",
       "      <td>3</td>\n",
       "      <td>7</td>\n",
       "      <td>Womens</td>\n",
       "      <td>Jeans</td>\n",
       "      <td>Navy Oversized</td>\n",
       "    </tr>\n",
       "    <tr>\n",
       "      <th>3</th>\n",
       "      <td>c4a632</td>\n",
       "      <td>2</td>\n",
       "      <td>13</td>\n",
       "      <td>23</td>\n",
       "      <td>t</td>\n",
       "      <td>fba96f</td>\n",
       "      <td>2021-03-03 00:32:56.0544</td>\n",
       "      <td>26</td>\n",
       "      <td>3</td>\n",
       "      <td>c4a632</td>\n",
       "      <td>13</td>\n",
       "      <td>Navy Oversized Jeans - Womens</td>\n",
       "      <td>1</td>\n",
       "      <td>3</td>\n",
       "      <td>7</td>\n",
       "      <td>Womens</td>\n",
       "      <td>Jeans</td>\n",
       "      <td>Navy Oversized</td>\n",
       "    </tr>\n",
       "    <tr>\n",
       "      <th>4</th>\n",
       "      <td>c4a632</td>\n",
       "      <td>5</td>\n",
       "      <td>13</td>\n",
       "      <td>11</td>\n",
       "      <td>t</td>\n",
       "      <td>4e9268</td>\n",
       "      <td>2021-01-23 14:18:54.0576</td>\n",
       "      <td>65</td>\n",
       "      <td>54</td>\n",
       "      <td>c4a632</td>\n",
       "      <td>13</td>\n",
       "      <td>Navy Oversized Jeans - Womens</td>\n",
       "      <td>1</td>\n",
       "      <td>3</td>\n",
       "      <td>7</td>\n",
       "      <td>Womens</td>\n",
       "      <td>Jeans</td>\n",
       "      <td>Navy Oversized</td>\n",
       "    </tr>\n",
       "    <tr>\n",
       "      <th>...</th>\n",
       "      <td>...</td>\n",
       "      <td>...</td>\n",
       "      <td>...</td>\n",
       "      <td>...</td>\n",
       "      <td>...</td>\n",
       "      <td>...</td>\n",
       "      <td>...</td>\n",
       "      <td>...</td>\n",
       "      <td>...</td>\n",
       "      <td>...</td>\n",
       "      <td>...</td>\n",
       "      <td>...</td>\n",
       "      <td>...</td>\n",
       "      <td>...</td>\n",
       "      <td>...</td>\n",
       "      <td>...</td>\n",
       "      <td>...</td>\n",
       "      <td>...</td>\n",
       "    </tr>\n",
       "    <tr>\n",
       "      <th>15090</th>\n",
       "      <td>c8d436</td>\n",
       "      <td>1</td>\n",
       "      <td>10</td>\n",
       "      <td>20</td>\n",
       "      <td>t</td>\n",
       "      <td>359542</td>\n",
       "      <td>2021-03-02 07:12:38.88</td>\n",
       "      <td>10</td>\n",
       "      <td>-10</td>\n",
       "      <td>c8d436</td>\n",
       "      <td>10</td>\n",
       "      <td>Teal Button Up Shirt - Mens</td>\n",
       "      <td>2</td>\n",
       "      <td>5</td>\n",
       "      <td>14</td>\n",
       "      <td>Mens</td>\n",
       "      <td>Shirt</td>\n",
       "      <td>Teal Button Up</td>\n",
       "    </tr>\n",
       "    <tr>\n",
       "      <th>15091</th>\n",
       "      <td>c8d436</td>\n",
       "      <td>2</td>\n",
       "      <td>10</td>\n",
       "      <td>13</td>\n",
       "      <td>f</td>\n",
       "      <td>f905a2</td>\n",
       "      <td>2021-03-07 19:15:40.2336</td>\n",
       "      <td>20</td>\n",
       "      <td>7</td>\n",
       "      <td>c8d436</td>\n",
       "      <td>10</td>\n",
       "      <td>Teal Button Up Shirt - Mens</td>\n",
       "      <td>2</td>\n",
       "      <td>5</td>\n",
       "      <td>14</td>\n",
       "      <td>Mens</td>\n",
       "      <td>Shirt</td>\n",
       "      <td>Teal Button Up</td>\n",
       "    </tr>\n",
       "    <tr>\n",
       "      <th>15092</th>\n",
       "      <td>c8d436</td>\n",
       "      <td>1</td>\n",
       "      <td>10</td>\n",
       "      <td>6</td>\n",
       "      <td>t</td>\n",
       "      <td>ba59c1</td>\n",
       "      <td>2021-02-08 12:26:55.5072</td>\n",
       "      <td>10</td>\n",
       "      <td>4</td>\n",
       "      <td>c8d436</td>\n",
       "      <td>10</td>\n",
       "      <td>Teal Button Up Shirt - Mens</td>\n",
       "      <td>2</td>\n",
       "      <td>5</td>\n",
       "      <td>14</td>\n",
       "      <td>Mens</td>\n",
       "      <td>Shirt</td>\n",
       "      <td>Teal Button Up</td>\n",
       "    </tr>\n",
       "    <tr>\n",
       "      <th>15093</th>\n",
       "      <td>c8d436</td>\n",
       "      <td>3</td>\n",
       "      <td>10</td>\n",
       "      <td>12</td>\n",
       "      <td>f</td>\n",
       "      <td>15cfae</td>\n",
       "      <td>2021-02-09 22:01:44.6592</td>\n",
       "      <td>30</td>\n",
       "      <td>18</td>\n",
       "      <td>c8d436</td>\n",
       "      <td>10</td>\n",
       "      <td>Teal Button Up Shirt - Mens</td>\n",
       "      <td>2</td>\n",
       "      <td>5</td>\n",
       "      <td>14</td>\n",
       "      <td>Mens</td>\n",
       "      <td>Shirt</td>\n",
       "      <td>Teal Button Up</td>\n",
       "    </tr>\n",
       "    <tr>\n",
       "      <th>15094</th>\n",
       "      <td>c8d436</td>\n",
       "      <td>1</td>\n",
       "      <td>10</td>\n",
       "      <td>14</td>\n",
       "      <td>f</td>\n",
       "      <td>72cd63</td>\n",
       "      <td>2021-01-13 12:47:38.6304</td>\n",
       "      <td>10</td>\n",
       "      <td>-4</td>\n",
       "      <td>c8d436</td>\n",
       "      <td>10</td>\n",
       "      <td>Teal Button Up Shirt - Mens</td>\n",
       "      <td>2</td>\n",
       "      <td>5</td>\n",
       "      <td>14</td>\n",
       "      <td>Mens</td>\n",
       "      <td>Shirt</td>\n",
       "      <td>Teal Button Up</td>\n",
       "    </tr>\n",
       "  </tbody>\n",
       "</table>\n",
       "<p>15095 rows × 18 columns</p>\n",
       "</div>"
      ],
      "text/plain": [
       "      prod_id  qty  price_x  discount member  txn_id  \\\n",
       "0      c4a632    4       13        17      t  54f307   \n",
       "1      c4a632    5       13        21      t  26cc98   \n",
       "2      c4a632    1       13        21      f  ef648d   \n",
       "3      c4a632    2       13        23      t  fba96f   \n",
       "4      c4a632    5       13        11      t  4e9268   \n",
       "...       ...  ...      ...       ...    ...     ...   \n",
       "15090  c8d436    1       10        20      t  359542   \n",
       "15091  c8d436    2       10        13      f  f905a2   \n",
       "15092  c8d436    1       10         6      t  ba59c1   \n",
       "15093  c8d436    3       10        12      f  15cfae   \n",
       "15094  c8d436    1       10        14      f  72cd63   \n",
       "\n",
       "                 start_txn_time  Revenue  Revenue_after_discount product_id  \\\n",
       "0       2021-02-13 01:59:43.296       52                      35     c4a632   \n",
       "1      2021-01-19 01:39:00.3456       65                      44     c4a632   \n",
       "2      2021-01-27 02:18:17.1648       13                      -8     c4a632   \n",
       "3      2021-03-03 00:32:56.0544       26                       3     c4a632   \n",
       "4      2021-01-23 14:18:54.0576       65                      54     c4a632   \n",
       "...                         ...      ...                     ...        ...   \n",
       "15090    2021-03-02 07:12:38.88       10                     -10     c8d436   \n",
       "15091  2021-03-07 19:15:40.2336       20                       7     c8d436   \n",
       "15092  2021-02-08 12:26:55.5072       10                       4     c8d436   \n",
       "15093  2021-02-09 22:01:44.6592       30                      18     c8d436   \n",
       "15094  2021-01-13 12:47:38.6304       10                      -4     c8d436   \n",
       "\n",
       "       price_y                   product_name  category_id  segment_id  \\\n",
       "0           13  Navy Oversized Jeans - Womens            1           3   \n",
       "1           13  Navy Oversized Jeans - Womens            1           3   \n",
       "2           13  Navy Oversized Jeans - Womens            1           3   \n",
       "3           13  Navy Oversized Jeans - Womens            1           3   \n",
       "4           13  Navy Oversized Jeans - Womens            1           3   \n",
       "...        ...                            ...          ...         ...   \n",
       "15090       10    Teal Button Up Shirt - Mens            2           5   \n",
       "15091       10    Teal Button Up Shirt - Mens            2           5   \n",
       "15092       10    Teal Button Up Shirt - Mens            2           5   \n",
       "15093       10    Teal Button Up Shirt - Mens            2           5   \n",
       "15094       10    Teal Button Up Shirt - Mens            2           5   \n",
       "\n",
       "       style_id category_name segment_name      style_name  \n",
       "0             7        Womens        Jeans  Navy Oversized  \n",
       "1             7        Womens        Jeans  Navy Oversized  \n",
       "2             7        Womens        Jeans  Navy Oversized  \n",
       "3             7        Womens        Jeans  Navy Oversized  \n",
       "4             7        Womens        Jeans  Navy Oversized  \n",
       "...         ...           ...          ...             ...  \n",
       "15090        14          Mens        Shirt  Teal Button Up  \n",
       "15091        14          Mens        Shirt  Teal Button Up  \n",
       "15092        14          Mens        Shirt  Teal Button Up  \n",
       "15093        14          Mens        Shirt  Teal Button Up  \n",
       "15094        14          Mens        Shirt  Teal Button Up  \n",
       "\n",
       "[15095 rows x 18 columns]"
      ]
     },
     "execution_count": 124,
     "metadata": {},
     "output_type": "execute_result"
    }
   ],
   "source": [
    "merged_df"
   ]
  },
  {
   "cell_type": "code",
   "execution_count": 125,
   "id": "7df76626",
   "metadata": {},
   "outputs": [
    {
     "name": "stdout",
     "output_type": "stream",
     "text": [
      "segment wise revenue befor discount  \n",
      "\n",
      "                                  Revenue\n",
      "segment_id segment_name prod_id         \n",
      "3          Jeans        c4a632     50128\n",
      "                        e31d39     37070\n",
      "                        e83aa3    121152\n",
      "4          Jacket       72f5d4     71383\n",
      "                        9ec847    209304\n",
      "                        d5e9a6     86296\n",
      "5          Shirt        2a2353    217683\n",
      "                        5d267b    152000\n",
      "                        c8d436     36460\n",
      "6          Socks        2feb6b    109330\n",
      "                        b9a74d     62135\n",
      "                        f084eb    136512\n"
     ]
    }
   ],
   "source": [
    "segment_wise_revenue_befor_discount=merged_df.groupby(['segment_id','segment_name','prod_id'])[['Revenue']].sum()\n",
    "print(f'segment wise revenue befor discount  \\n\\n {segment_wise_revenue_befor_discount}')"
   ]
  },
  {
   "cell_type": "code",
   "execution_count": 126,
   "id": "690575e2",
   "metadata": {},
   "outputs": [
    {
     "name": "stdout",
     "output_type": "stream",
     "text": [
      "segment wise revenue after discount  \n",
      "\n",
      "                                  Revenue_after_discount\n",
      "segment_id segment_name prod_id                        \n",
      "3          Jeans        c4a632                    34710\n",
      "                        e31d39                    22005\n",
      "                        e83aa3                   105895\n",
      "4          Jacket       72f5d4                    56100\n",
      "                        9ec847                   193804\n",
      "                        d5e9a6                    71627\n",
      "5          Shirt        2a2353                   202130\n",
      "                        5d267b                   136513\n",
      "                        c8d436                    21457\n",
      "6          Socks        2feb6b                    94384\n",
      "                        b9a74d                    47262\n",
      "                        f084eb                   120866\n"
     ]
    }
   ],
   "source": [
    "segment_wise_revenue_after_discount=merged_df.groupby(['segment_id','segment_name','prod_id'])[['Revenue_after_discount']].sum()\n",
    "print(f'segment wise revenue after discount  \\n\\n {segment_wise_revenue_after_discount}')"
   ]
  },
  {
   "cell_type": "markdown",
   "id": "94b20ed0",
   "metadata": {},
   "source": [
    "## 4 ) What is the total quantity, revenue and discount for each category?"
   ]
  },
  {
   "cell_type": "code",
   "execution_count": 127,
   "id": "171815ee",
   "metadata": {},
   "outputs": [
    {
     "data": {
      "text/html": [
       "<div>\n",
       "<style scoped>\n",
       "    .dataframe tbody tr th:only-of-type {\n",
       "        vertical-align: middle;\n",
       "    }\n",
       "\n",
       "    .dataframe tbody tr th {\n",
       "        vertical-align: top;\n",
       "    }\n",
       "\n",
       "    .dataframe thead th {\n",
       "        text-align: right;\n",
       "    }\n",
       "</style>\n",
       "<table border=\"1\" class=\"dataframe\">\n",
       "  <thead>\n",
       "    <tr style=\"text-align: right;\">\n",
       "      <th></th>\n",
       "      <th></th>\n",
       "      <th>qty</th>\n",
       "      <th>Revenue</th>\n",
       "      <th>discount</th>\n",
       "    </tr>\n",
       "    <tr>\n",
       "      <th>category_id</th>\n",
       "      <th>category_name</th>\n",
       "      <th></th>\n",
       "      <th></th>\n",
       "      <th></th>\n",
       "    </tr>\n",
       "  </thead>\n",
       "  <tbody>\n",
       "    <tr>\n",
       "      <th>1</th>\n",
       "      <th>Womens</th>\n",
       "      <td>22734</td>\n",
       "      <td>575333</td>\n",
       "      <td>91192</td>\n",
       "    </tr>\n",
       "    <tr>\n",
       "      <th>2</th>\n",
       "      <th>Mens</th>\n",
       "      <td>22482</td>\n",
       "      <td>714120</td>\n",
       "      <td>91508</td>\n",
       "    </tr>\n",
       "  </tbody>\n",
       "</table>\n",
       "</div>"
      ],
      "text/plain": [
       "                             qty  Revenue  discount\n",
       "category_id category_name                          \n",
       "1           Womens         22734   575333     91192\n",
       "2           Mens           22482   714120     91508"
      ]
     },
     "execution_count": 127,
     "metadata": {},
     "output_type": "execute_result"
    }
   ],
   "source": [
    "merged_df.groupby(['category_id','category_name'])[['qty','Revenue','discount']].sum()"
   ]
  },
  {
   "cell_type": "markdown",
   "id": "a455775b",
   "metadata": {},
   "source": [
    "## 5 ) What is the top selling product for each category?"
   ]
  },
  {
   "cell_type": "markdown",
   "id": "41770153",
   "metadata": {},
   "source": [
    "## after discount "
   ]
  },
  {
   "cell_type": "code",
   "execution_count": 128,
   "id": "9ac8cfa8",
   "metadata": {},
   "outputs": [
    {
     "name": "stdout",
     "output_type": "stream",
     "text": [
      "product revenue for women category after discount :\n",
      "\n",
      " ('Womens', 'Grey Fashion Jacket - Womens')\n"
     ]
    }
   ],
   "source": [
    "data_women_after_discount=merged_df[merged_df['category_name']=='Womens'].groupby(['category_name','product_name'])['Revenue_after_discount'].sum()\n",
    "product_revenue_for_women_category_after_discount=data_women_after_discount.sort_values(ascending=False).idxmax() # for accessing maximum index\n",
    "print(f'product revenue for women category after discount :\\n\\n {product_revenue_for_women_category_after_discount}')"
   ]
  },
  {
   "cell_type": "code",
   "execution_count": 129,
   "id": "7c8f4172",
   "metadata": {},
   "outputs": [
    {
     "name": "stdout",
     "output_type": "stream",
     "text": [
      "product revenue for women category after discount :\n",
      "\n",
      " 193804\n"
     ]
    }
   ],
   "source": [
    "top_revenue_for_women_category_after_discount=data_women_after_discount.sort_values(ascending=False)[0] # for accesing first value(top)\n",
    "print(f'product revenue for women category after discount :\\n\\n {top_revenue_for_women_category_after_discount}')"
   ]
  },
  {
   "cell_type": "code",
   "execution_count": 130,
   "id": "aeef7f09",
   "metadata": {},
   "outputs": [
    {
     "name": "stdout",
     "output_type": "stream",
     "text": [
      "product revenue for women category after discount :\n",
      "\n",
      " ('Mens', '2a2353', 'Blue Polo Shirt - Mens')\n"
     ]
    }
   ],
   "source": [
    "data_mens_after_discount=merged_df[merged_df['category_name']=='Mens'].groupby(['category_name','prod_id','product_name'])['Revenue_after_discount'].sum()\n",
    "product_revenue_for_men_category_after_discount=data_mens_after_discount.sort_values(ascending=False).idxmax()\n",
    "print(f'product revenue for women category after discount :\\n\\n {product_revenue_for_men_category_after_discount}')"
   ]
  },
  {
   "cell_type": "code",
   "execution_count": 131,
   "id": "d8200841",
   "metadata": {},
   "outputs": [
    {
     "name": "stdout",
     "output_type": "stream",
     "text": [
      "product revenue for women category after discount :\n",
      "\n",
      " 202130\n"
     ]
    }
   ],
   "source": [
    "top_revenue_for_men_category_after_discount=data_mens_after_discount.sort_values(ascending=False)[0]\n",
    "print(f'product revenue for women category after discount :\\n\\n {top_revenue_for_men_category_after_discount}')"
   ]
  },
  {
   "cell_type": "markdown",
   "id": "5861fe10",
   "metadata": {},
   "source": [
    "## before discount"
   ]
  },
  {
   "cell_type": "code",
   "execution_count": 132,
   "id": "2f70905c",
   "metadata": {},
   "outputs": [
    {
     "name": "stdout",
     "output_type": "stream",
     "text": [
      "product revenue for women category after discount :\n",
      "\n",
      " ('Womens', 'Grey Fashion Jacket - Womens')\n"
     ]
    }
   ],
   "source": [
    "data_women_=merged_df[merged_df['category_name']=='Womens'].groupby(['category_name','product_name'])['Revenue'].sum()# groupby on women data\n",
    "product_revenue_for_women_category_after_discount=data_women_.sort_values(ascending=False).idxmax() # for accesing max index \n",
    "print(f'product revenue for women category after discount :\\n\\n {product_revenue_for_women_category_after_discount}')"
   ]
  },
  {
   "cell_type": "code",
   "execution_count": 133,
   "id": "3103e132",
   "metadata": {},
   "outputs": [
    {
     "name": "stdout",
     "output_type": "stream",
     "text": [
      "product revenue for women category after discount :\n",
      "\n",
      " 209304\n"
     ]
    }
   ],
   "source": [
    "top_revenue_for_women_category_after_discount=data_women_.sort_values(ascending=False)[0]\n",
    "print(f'product revenue for women category after discount :\\n\\n {top_revenue_for_women_category_after_discount}')"
   ]
  },
  {
   "cell_type": "code",
   "execution_count": 134,
   "id": "7de59d5e",
   "metadata": {},
   "outputs": [
    {
     "name": "stdout",
     "output_type": "stream",
     "text": [
      "product revenue for women category after discount :\n",
      "\n",
      " ('Mens', '2a2353', 'Blue Polo Shirt - Mens')\n"
     ]
    }
   ],
   "source": [
    "# groupby on mens data\n",
    "data_mens=merged_df[merged_df['category_name']=='Mens'].groupby(['category_name','prod_id','product_name'])['Revenue'].sum()\n",
    "product_revenue_for_men_category_after_discount=data_mens.sort_values(ascending=False).idxmax()\n",
    "print(f'product revenue for women category after discount :\\n\\n {product_revenue_for_men_category_after_discount}')"
   ]
  },
  {
   "cell_type": "code",
   "execution_count": 135,
   "id": "b28bb780",
   "metadata": {},
   "outputs": [
    {
     "name": "stdout",
     "output_type": "stream",
     "text": [
      "product revenue for women category after discount :\n",
      "\n",
      " 217683\n"
     ]
    }
   ],
   "source": [
    "top_revenue_for_men_category_after_discount=data_mens.sort_values(ascending=False)[0]\n",
    "print(f'product revenue for women category after discount :\\n\\n {top_revenue_for_men_category_after_discount}')"
   ]
  },
  {
   "cell_type": "code",
   "execution_count": 136,
   "id": "0595a102",
   "metadata": {},
   "outputs": [
    {
     "name": "stdout",
     "output_type": "stream",
     "text": [
      "product revenue for women category after discount :\n",
      "\n",
      " ('Mens', '2a2353', 'Blue Polo Shirt - Mens')\n"
     ]
    }
   ],
   "source": [
    "data=merged_df.groupby(['category_name','prod_id','product_name'])['Revenue'].sum()\n",
    "pr=data.sort_values(ascending=False).idxmax()\n",
    "print(f'product revenue for women category after discount :\\n\\n {pr}')"
   ]
  },
  {
   "cell_type": "code",
   "execution_count": null,
   "id": "ad3f231a",
   "metadata": {},
   "outputs": [],
   "source": []
  }
 ],
 "metadata": {
  "kernelspec": {
   "display_name": "Python 3 (ipykernel)",
   "language": "python",
   "name": "python3"
  },
  "language_info": {
   "codemirror_mode": {
    "name": "ipython",
    "version": 3
   },
   "file_extension": ".py",
   "mimetype": "text/x-python",
   "name": "python",
   "nbconvert_exporter": "python",
   "pygments_lexer": "ipython3",
   "version": "3.11.5"
  }
 },
 "nbformat": 4,
 "nbformat_minor": 5
}
